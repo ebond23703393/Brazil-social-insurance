{
 "cells": [
  {
   "cell_type": "markdown",
   "id": "a03e0a8e",
   "metadata": {},
   "source": [
    "**Next method**"
   ]
  },
  {
   "cell_type": "code",
   "execution_count": 2,
   "id": "11ad2f29",
   "metadata": {},
   "outputs": [
    {
     "name": "stdout",
     "output_type": "stream",
     "text": [
      "c:\\Users\\edward_b\\OneDrive - Institute for Fiscal Studies\\Work\\Brazil social insurance\\venv\\Scripts\\python.exe\n"
     ]
    }
   ],
   "source": [
    "import sys\n",
    "print(sys.executable)"
   ]
  },
  {
   "cell_type": "markdown",
   "id": "c8f14978",
   "metadata": {},
   "source": [
    "***Pyautogui***"
   ]
  },
  {
   "cell_type": "code",
   "execution_count": 24,
   "id": "c828cf6f",
   "metadata": {},
   "outputs": [],
   "source": [
    "import pyautogui\n",
    "import os\n",
    "import time\n",
    "import subprocess\n",
    "import pandas as pd\n",
    "from selenium import webdriver\n",
    "from selenium.webdriver.chrome.options import Options\n",
    "from selenium.webdriver.common.by import By\n",
    "from selenium.webdriver.support.ui import WebDriverWait\n",
    "from selenium.webdriver.support import expected_conditions as EC\n",
    "from selenium.webdriver.common.action_chains import ActionChains\n",
    "from bs4 import BeautifulSoup\n",
    "import psutil\n",
    "from selenium.webdriver.support.ui import Select\n",
    "import matplotlib.pyplot as plt\n",
    "import logging\n",
    "from logging.handlers import RotatingFileHandler\n",
    "import random\n",
    "import requests"
   ]
  },
  {
   "cell_type": "code",
   "execution_count": 25,
   "id": "0797de06",
   "metadata": {},
   "outputs": [],
   "source": [
    "os.chdir(\"C:/Users/edward_b/OneDrive - Institute for Fiscal Studies/Work/Brazil social insurance\")"
   ]
  },
  {
   "cell_type": "code",
   "execution_count": 26,
   "id": "51eb8b56",
   "metadata": {},
   "outputs": [],
   "source": [
    "# Data storage\n",
    "data = []\n",
    "\n",
    "# Function to kill Chrome processes\n",
    "def kill_chrome():\n",
    "    \"\"\"Kill all Chrome processes.\"\"\"\n",
    "    for proc in psutil.process_iter(['pid', 'name']):\n",
    "        if 'chrome' in proc.info['name'].lower():\n",
    "            try:\n",
    "                proc.kill()\n",
    "            except psutil.NoSuchProcess:\n",
    "                pass\n",
    "\n",
    "# Scraper function\n",
    "def scrape_data(cnpj,year, soup, table):\n",
    "    if not table:\n",
    "        '''\n",
    "        print(f\"No table found for {cnpj}\")\n",
    "        data.append({'cnpj': cnpj,\n",
    "                      'periodo': year,\n",
    "                      'data_found': False})\n",
    "        return\n",
    "        '''\n",
    "    rows = table.find('tbody').find_all('tr', class_='pa')\n",
    "    for row in rows:\n",
    "        cells = row.find_all('td')\n",
    "        if len(cells) < 10:\n",
    "            continue\n",
    "        data.append({\n",
    "            'cnpj': cnpj,\n",
    "            'periodo': cells[1].get_text(strip=True),\n",
    "            'apurado': cells[2].get_text(strip=True),\n",
    "            'INSS': cells[3].get_text(strip=True),\n",
    "            'principal': cells[4].get_text(strip=True),\n",
    "            'multa': cells[5].get_text(strip=True),\n",
    "            'juros': cells[6].get_text(strip=True),\n",
    "            'total': cells[7].get_text(strip=True),\n",
    "            'vencimento': cells[8].get_text(strip=True),\n",
    "            'acolhimento': cells[9].get_text(strip=True),\n",
    "            'data_found': True\n",
    "        })"
   ]
  },
  {
   "cell_type": "markdown",
   "id": "e30ea966",
   "metadata": {},
   "source": [
    "**Import master**"
   ]
  },
  {
   "cell_type": "code",
   "execution_count": 8,
   "id": "5f346739",
   "metadata": {},
   "outputs": [
    {
     "name": "stderr",
     "output_type": "stream",
     "text": [
      "C:\\Users\\edward_b\\AppData\\Local\\Temp\\ipykernel_37168\\2426474582.py:2: DtypeWarning: Columns (3) have mixed types. Specify dtype option on import or set low_memory=False.\n",
      "  cnpj_master = pd.read_csv(f'{path}/simples.csv', sep=',', encoding='utf-8')\n"
     ]
    }
   ],
   "source": [
    "path = \"raw/CNPJ numbers\"\n",
    "cnpj_master = pd.read_csv(f'{path}/simples.csv', sep=',', encoding='utf-8')\n",
    "cnpj_master = cnpj_master[['cnpj_basico','opcao_mei']]"
   ]
  },
  {
   "cell_type": "code",
   "execution_count": 9,
   "id": "1cbf235b",
   "metadata": {},
   "outputs": [],
   "source": [
    "# find length of cnpj\n",
    "cnpj_master[\"length cnpj_basico\"] = cnpj_master[\"cnpj_basico\"].astype(str).str.len()\n"
   ]
  },
  {
   "cell_type": "code",
   "execution_count": null,
   "id": "afff266b",
   "metadata": {},
   "outputs": [],
   "source": [
    "pd.crosstab(cnpj_master[\"length cnpj_basico\"], cnpj_master[\"opcao_mei\"], margins=True, margins_name=\"Total\")"
   ]
  },
  {
   "cell_type": "code",
   "execution_count": 11,
   "id": "ba0f732b",
   "metadata": {},
   "outputs": [],
   "source": [
    "cnpj_master[\"cnpj_basico\"] = cnpj_master[\"cnpj_basico\"].astype(str)"
   ]
  },
  {
   "cell_type": "code",
   "execution_count": 12,
   "id": "6740578c",
   "metadata": {},
   "outputs": [],
   "source": [
    "cnpj_master = cnpj_master[cnpj_master['opcao_mei'] == 1]\n",
    "cnpj_master.drop(columns=['length cnpj_basico'], inplace=True)"
   ]
  },
  {
   "cell_type": "markdown",
   "id": "693e2916",
   "metadata": {},
   "source": [
    "**Import example full file**"
   ]
  },
  {
   "cell_type": "code",
   "execution_count": 13,
   "id": "f7abcd84",
   "metadata": {},
   "outputs": [],
   "source": [
    "cnpj_test = pd.read_csv(f'{path}/establishmentsAC.csv', sep=',', encoding='utf-8')\n",
    "cnpj_test = cnpj_test[['cnpj']]\n",
    "cnpj_test[\"cnpj_basico\"] = cnpj_test[\"cnpj\"].astype(str).str[:8]"
   ]
  },
  {
   "cell_type": "code",
   "execution_count": 14,
   "id": "1c01d883",
   "metadata": {},
   "outputs": [],
   "source": [
    "cnpj_merged = pd.merge(cnpj_master, cnpj_test, left_on='cnpj_basico', right_on='cnpj_basico', how='inner')"
   ]
  },
  {
   "cell_type": "code",
   "execution_count": null,
   "id": "258d2f4c",
   "metadata": {},
   "outputs": [],
   "source": [
    "cnpj_merged[\"cnpj\"] = cnpj_merged[\"cnpj\"].astype(str)\n",
    "cnpj_merged[\"cnpj\"].str.len().hist()"
   ]
  },
  {
   "cell_type": "code",
   "execution_count": 16,
   "id": "2cbf108e",
   "metadata": {},
   "outputs": [],
   "source": [
    "cnpj_merged = cnpj_merged[cnpj_merged['cnpj'].str.len() == 14]\n",
    "cnpj_merged = cnpj_merged.drop_duplicates(subset=['cnpj'], keep='first')"
   ]
  },
  {
   "cell_type": "code",
   "execution_count": null,
   "id": "89e4890a",
   "metadata": {},
   "outputs": [],
   "source": [
    "cnpj_merged.to_csv('MEI_numbers.csv', sep=',', encoding='utf-8', index=False)"
   ]
  },
  {
   "cell_type": "markdown",
   "id": "46d10065",
   "metadata": {},
   "source": [
    "*****-----------------------Load in MEI numbers and start scraping-----------------------*****"
   ]
  },
  {
   "cell_type": "code",
   "execution_count": 27,
   "id": "c7dac715",
   "metadata": {},
   "outputs": [],
   "source": [
    "cnpj_merged = pd.read_csv('MEI_numbers.csv', sep=',', encoding='utf-8')"
   ]
  },
  {
   "cell_type": "code",
   "execution_count": null,
   "id": "a089f127",
   "metadata": {},
   "outputs": [],
   "source": [
    "proxy_list = pd.read_csv(\"scripts/proxies.txt\", sep=',', encoding='utf-8', header=None, names=['proxy'])\n",
    "proxy_list = proxy_list[\"proxy\"].to_list()\n",
    "proxy_list"
   ]
  },
  {
   "cell_type": "code",
   "execution_count": 28,
   "id": "355e8e64",
   "metadata": {},
   "outputs": [
    {
     "data": {
      "text/plain": [
       "(1, 3)"
      ]
     },
     "execution_count": 28,
     "metadata": {},
     "output_type": "execute_result"
    }
   ],
   "source": [
    "# get random sample of 10\n",
    "cnpj_merged = cnpj_merged.sample(n=1, random_state=10)\n",
    "#convert cnpj's to a list\n",
    "cnpj_list = cnpj_merged['cnpj'].tolist()\n",
    "cnpj_merged.shape # 13,894 obs"
   ]
  },
  {
   "cell_type": "markdown",
   "id": "e69f6e81",
   "metadata": {},
   "source": [
    "**Check if proxies work**"
   ]
  },
  {
   "cell_type": "code",
   "execution_count": null,
   "id": "606b1843",
   "metadata": {},
   "outputs": [
    {
     "name": "stdout",
     "output_type": "stream",
     "text": [
      "Nothing done.\n",
      "Proxy failed: HTTPSConnectionPool(host='httpbin.org', port=443): Max retries exceeded with url: /ip (Caused by ProxyError('Unable to connect to proxy', NewConnectionError('<urllib3.connection.HTTPSConnection object at 0x000001F05BD1BFB0>: Failed to establish a new connection: [WinError 10061] No connection could be made because the target machine actively refused it')))\n"
     ]
    }
   ],
   "source": [
    "\n",
    "\n",
    "# proxy = \"66.201.7.151\"  # Replace with the proxy you want to test\n",
    "\n",
    "# try:\n",
    "#     response = requests.get(\n",
    "#         \"https://httpbin.org/ip\",\n",
    "#         proxies={\"http\": proxy, \"https\": proxy},\n",
    "#         timeout=10\n",
    "#     )\n",
    "#     print(\"Proxy is working. IP seen by server:\", response.text)\n",
    "# except Exception as e:\n",
    "#     print(\"Proxy failed:\", e)"
   ]
  },
  {
   "cell_type": "markdown",
   "id": "d37d94dd",
   "metadata": {},
   "source": [
    "**Set up scraper**"
   ]
  },
  {
   "cell_type": "code",
   "execution_count": 31,
   "id": "0b718830",
   "metadata": {},
   "outputs": [
    {
     "data": {
      "text/plain": [
       "['28740844000198']"
      ]
     },
     "execution_count": 31,
     "metadata": {},
     "output_type": "execute_result"
    }
   ],
   "source": [
    "cnpj_list = [str(i) for i in cnpj_list]\n",
    "cnpj_list"
   ]
  },
  {
   "cell_type": "code",
   "execution_count": 32,
   "id": "e92761c4",
   "metadata": {},
   "outputs": [],
   "source": [
    "import shutil\n",
    "import os\n",
    "\n",
    "chrome_profile_path = \"C:/Temp/ChromeDebug\"\n",
    "if os.path.exists(chrome_profile_path):\n",
    "    shutil.rmtree(chrome_profile_path)  # delete the profile folder"
   ]
  },
  {
   "cell_type": "code",
   "execution_count": 33,
   "id": "e6003240",
   "metadata": {},
   "outputs": [],
   "source": [
    "log_file = 'mei_scraper_log.log'\n",
    "with open(log_file, 'w'):\n",
    "    pass  # This empties the file\n",
    "logging.basicConfig(\n",
    "    level=logging.INFO,\n",
    "    format='%(asctime)s - %(levelname)s - %(message)s',\n",
    "    handlers=[\n",
    "        RotatingFileHandler(log_file, maxBytes=5*1024*1024, backupCount=3),  # 5MB per file\n",
    "        logging.StreamHandler()  # Optional: print to console too\n",
    "    ]\n",
    ")"
   ]
  },
  {
   "cell_type": "code",
   "execution_count": null,
   "id": "7cacf97e",
   "metadata": {},
   "outputs": [],
   "source": [
    "# ---- Define url and cnpj list ----\n",
    "url = \"https://www8.receita.fazenda.gov.br/SimplesNacional/Aplicacoes/ATSPO/pgmei.app/Identificacao\"\n",
    "data = []\n",
    "timings = []\n",
    "total_start_time = time.time()\n",
    "\n",
    "\n",
    "for cnpj in cnpj_list:\n",
    "    proxy = random.choice(proxy_list)\n",
    "    print(\"Using proxy:\", proxy)\n",
    "    logging.info(\"Processing CNPJ:\", cnpj)\n",
    "    start_time = time.time()\n",
    "\n",
    "    try:\n",
    "\n",
    "        # ---- Step 1: Start Chrome in remote debug mode ----\n",
    "        subprocess.Popen([\n",
    "            r\"C:/Program Files/Google/Chrome/Application/chrome.exe\",\n",
    "            #f\"--proxy-server={proxy}\",\n",
    "            \"--remote-debugging-port=9222\",\n",
    "            \"--user-data-dir=\" + chrome_profile_path,\n",
    "            \"--start-maximized\",  # or \"--start-fullscreen\"\n",
    "            \"--disable-popup-blocking\",  # optional, disable for debugging only\n",
    "            \"--disable-extensions\",\n",
    "            \"--no-first-run\",\n",
    "            \"--no-default-browser-check\"\n",
    "        ])\n",
    "        time.sleep(2)  # Give Chrome time to launch\n",
    "\n",
    "        # ---- Step 2: Use pyautogui to interact with the site ----\n",
    "        pyautogui.hotkey('ctrl', 'l')\n",
    "        pyautogui.typewrite(url, interval=0.01)\n",
    "        pyautogui.press('enter')  \n",
    "        time.sleep(2)\n",
    "\n",
    "        pyautogui.moveTo(x=1037, y=387, duration=1)\n",
    "        pyautogui.click()\n",
    "        pyautogui.typewrite(cnpj, interval=0.1)\n",
    "\n",
    "        pyautogui.moveTo(x=1043, y=514, duration=1)\n",
    "        pyautogui.click()\n",
    "        time.sleep(2)\n",
    "\n",
    "        options = Options()\n",
    "        options.add_experimental_option(\"debuggerAddress\", \"127.0.0.1:9222\")\n",
    "        #options.add_argument(f'--proxy-server={proxy}')\n",
    "        driver = webdriver.Chrome(options=options)\n",
    "        wait = WebDriverWait(driver, 3)\n",
    "\n",
    "        driver.get(\"https://www8.receita.fazenda.gov.br/SimplesNacional/Aplicacoes/ATSPO/pgmei.app/emissao\")\n",
    "        time.sleep(1.5)\n",
    "\n",
    "        # First try: Bootstrap-styled dropdown\n",
    "        try:\n",
    "            dropdown_button = wait.until(EC.element_to_be_clickable((By.CSS_SELECTOR, 'button[data-id=\"anoCalendarioSelect\"]')))\n",
    "            dropdown_button.click()\n",
    "            time.sleep(1)\n",
    "\n",
    "            year_elements = wait.until(EC.presence_of_all_elements_located(\n",
    "                (By.CSS_SELECTOR, \".dropdown-menu.inner li a span.text\")\n",
    "            ))\n",
    "            enabled_years = [el.text.strip() for el in year_elements if el.text.strip()]\n",
    "            # remove elements from the list that contain \"Não optante\"\n",
    "            enabled_years = [year for year in enabled_years if \"Não optante\" not in year]\n",
    "\n",
    "            # Raise an exception if no enabled years are found\n",
    "            if not enabled_years:\n",
    "                raise ValueError(\"No enabled years found in the dropdown menu.\")\n",
    "\n",
    "            print(\"Bootstrap dropdown enabled years for CNPJ \", cnpj , \":\", enabled_years)\n",
    "            use_bootstrap = True\n",
    "            \n",
    "\n",
    "        except Exception as e:\n",
    "            print(\"Bootstrap dropdown failed, falling back to native <select> method.\")\n",
    "            # Try native <select>\n",
    "            select_element = wait.until(EC.presence_of_element_located((By.ID, \"anoCalendarioSelect\")))\n",
    "            dropdown = Select(select_element)\n",
    "            enabled_years = [o.text.strip() for o in dropdown.options if o.text.strip()]\n",
    "            enabled_years = [year for year in enabled_years if \"Não optante\" not in year]\n",
    "            print(\"Native <select> enabled years for CNPJ \", cnpj,\":\", enabled_years)\n",
    "            use_bootstrap = False\n",
    "\n",
    "        print(\"scraping years\", enabled_years)\n",
    "        enabled_years = [str(max(enabled_years))]\n",
    "        enabled_years.insert(0, \"2010\")  #add a year to the start of the list\n",
    "        \n",
    "        for index, year in enumerate(enabled_years):\n",
    "            try:\n",
    "                if use_bootstrap:\n",
    "                    dropdown_button = wait.until(EC.presence_of_element_located((By.CSS_SELECTOR, 'button[data-id=\"anoCalendarioSelect\"]')))\n",
    "                    driver.execute_script(\"arguments[0].click();\", dropdown_button)\n",
    "                    time.sleep(1.5)  # allow dropdown to render\n",
    "                    \n",
    "                    print(\"Clicking on year:\", year)\n",
    "                    year_option = wait.until(EC.element_to_be_clickable(\n",
    "                        (By.XPATH, f\"//span[@class='text' and normalize-space(text())='{year}']\")\n",
    "                    ))\n",
    "                    time.sleep(2)\n",
    "                    driver.execute_script(\"arguments[0].click();\", year_option)\n",
    "                    #ActionChains(driver).move_to_element(year_option).click().perform()\n",
    "                    print(f\"Selected (Bootstrap) year: {year}\")\n",
    "                else:\n",
    "                    dropdown = Select(driver.find_element(By.ID, \"anoCalendarioSelect\"))\n",
    "                    dropdown.select_by_visible_text(year)\n",
    "                    print(f\"Selected (native) year: {year}\")\n",
    "\n",
    "                ok_button = driver.find_element(By.CSS_SELECTOR, \"button[type='submit']\")\n",
    "                ok_button.click()\n",
    "                time.sleep(2)\n",
    "                \n",
    "                # check if table is present\n",
    "                soup = BeautifulSoup(driver.page_source, 'html.parser')\n",
    "                table = soup.find('table', class_='table table-hover table-condensed emissao is-detailed')\n",
    "                if not table:\n",
    "                    print(f\"No table found for {cnpj} in year {year}. Skipping the rest.\")\n",
    "                    # Mark all remaining years as not found\n",
    "                    for remaining_year in enabled_years[index:]:\n",
    "                        data.append({\n",
    "                            'cnpj': cnpj,\n",
    "                            'periodo': remaining_year,\n",
    "                            'data_found': False\n",
    "                        })\n",
    "                    break  # Exit the year loop\n",
    "                    \n",
    "                scrape_data(cnpj,year, soup, table)\n",
    "\n",
    "                driver.back()\n",
    "                time.sleep(2)\n",
    "\n",
    "            except Exception as e:\n",
    "                print(f\"Error with year {year}:\", e)\n",
    "\n",
    "    except Exception as outer_error:\n",
    "        print(f\"Fatal error with CNPJ {cnpj}:\", outer_error)\n",
    "\n",
    "    finally:\n",
    "        try:\n",
    "            driver.quit()\n",
    "        except:\n",
    "            pass\n",
    "        kill_chrome()\n",
    "        end_time = time.time()  # ⏱ End timer\n",
    "        elapsed = end_time - start_time\n",
    "        timings.append(elapsed)\n",
    "        total_elapsed = time.time() - total_start_time\n",
    "        average_elapsed = sum(timings) / len(timings)\n",
    "        \n",
    "        logging.info(f\"Finished CNPJ: {cnpj} in {elapsed:.2f} seconds\\n\")\n",
    "        logging.info(f\"Average time per CNPJ: {average_elapsed:.2f} seconds\")\n",
    "        logging.info(f\"Total time elapsed: {total_elapsed:.2f} seconds\\n\")\n",
    "        time.sleep(2)"
   ]
  },
  {
   "cell_type": "code",
   "execution_count": 35,
   "id": "4018a1b8",
   "metadata": {},
   "outputs": [
    {
     "data": {
      "application/vnd.microsoft.datawrangler.viewer.v0+json": {
       "columns": [
        {
         "name": "index",
         "rawType": "int64",
         "type": "integer"
        },
        {
         "name": "cnpj",
         "rawType": "object",
         "type": "string"
        },
        {
         "name": "periodo",
         "rawType": "object",
         "type": "string"
        },
        {
         "name": "data_found",
         "rawType": "bool",
         "type": "boolean"
        }
       ],
       "ref": "f4ebf096-7bd6-48e6-bcda-a1de84484f50",
       "rows": [
        [
         "0",
         "28740844000198",
         "2025",
         "False"
        ]
       ],
       "shape": {
        "columns": 3,
        "rows": 1
       }
      },
      "text/html": [
       "<div>\n",
       "<style scoped>\n",
       "    .dataframe tbody tr th:only-of-type {\n",
       "        vertical-align: middle;\n",
       "    }\n",
       "\n",
       "    .dataframe tbody tr th {\n",
       "        vertical-align: top;\n",
       "    }\n",
       "\n",
       "    .dataframe thead th {\n",
       "        text-align: right;\n",
       "    }\n",
       "</style>\n",
       "<table border=\"1\" class=\"dataframe\">\n",
       "  <thead>\n",
       "    <tr style=\"text-align: right;\">\n",
       "      <th></th>\n",
       "      <th>cnpj</th>\n",
       "      <th>periodo</th>\n",
       "      <th>data_found</th>\n",
       "    </tr>\n",
       "  </thead>\n",
       "  <tbody>\n",
       "    <tr>\n",
       "      <th>0</th>\n",
       "      <td>28740844000198</td>\n",
       "      <td>2025</td>\n",
       "      <td>False</td>\n",
       "    </tr>\n",
       "  </tbody>\n",
       "</table>\n",
       "</div>"
      ],
      "text/plain": [
       "             cnpj periodo  data_found\n",
       "0  28740844000198    2025       False"
      ]
     },
     "execution_count": 35,
     "metadata": {},
     "output_type": "execute_result"
    }
   ],
   "source": [
    "df = pd.DataFrame(data)\n",
    "df"
   ]
  },
  {
   "cell_type": "code",
   "execution_count": 19,
   "id": "a86cfe31",
   "metadata": {},
   "outputs": [],
   "source": [
    "pd.DataFrame(data).to_csv('MEI_data.csv', sep=',', encoding='utf-8', index=False)"
   ]
  }
 ],
 "metadata": {
  "kernelspec": {
   "display_name": "venv",
   "language": "python",
   "name": "python3"
  },
  "language_info": {
   "codemirror_mode": {
    "name": "ipython",
    "version": 3
   },
   "file_extension": ".py",
   "mimetype": "text/x-python",
   "name": "python",
   "nbconvert_exporter": "python",
   "pygments_lexer": "ipython3",
   "version": "3.12.10"
  }
 },
 "nbformat": 4,
 "nbformat_minor": 5
}

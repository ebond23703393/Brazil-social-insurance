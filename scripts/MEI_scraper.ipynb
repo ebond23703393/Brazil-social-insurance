{
 "cells": [
  {
   "cell_type": "markdown",
   "id": "a03e0a8e",
   "metadata": {},
   "source": [
    "**Next method**"
   ]
  },
  {
   "cell_type": "code",
   "execution_count": 1,
   "id": "11ad2f29",
   "metadata": {},
   "outputs": [
    {
     "name": "stdout",
     "output_type": "stream",
     "text": [
      "c:\\Users\\edward_b\\OneDrive - Institute for Fiscal Studies\\Work\\Brazil social insurance\\venv\\Scripts\\python.exe\n"
     ]
    }
   ],
   "source": [
    "import sys\n",
    "print(sys.executable)"
   ]
  },
  {
   "cell_type": "markdown",
   "id": "c8f14978",
   "metadata": {},
   "source": [
    "***Pyautogui***"
   ]
  },
  {
   "cell_type": "code",
   "execution_count": 85,
   "id": "c828cf6f",
   "metadata": {},
   "outputs": [],
   "source": [
    "import pyautogui\n",
    "import os\n",
    "import time\n",
    "import subprocess\n",
    "import pandas as pd\n",
    "from selenium import webdriver\n",
    "from selenium.webdriver.chrome.options import Options\n",
    "from selenium.webdriver.common.by import By\n",
    "from selenium.webdriver.support.ui import WebDriverWait\n",
    "from selenium.webdriver.support import expected_conditions as EC\n",
    "from selenium.webdriver.common.action_chains import ActionChains\n",
    "from bs4 import BeautifulSoup\n",
    "import psutil\n",
    "from selenium.webdriver.support.ui import Select\n",
    "import matplotlib.pyplot as plt\n",
    "import logging\n",
    "from logging.handlers import RotatingFileHandler\n",
    "import random"
   ]
  },
  {
   "cell_type": "code",
   "execution_count": 3,
   "id": "0797de06",
   "metadata": {},
   "outputs": [],
   "source": [
    "os.chdir(\"C:/Users/edward_b/OneDrive - Institute for Fiscal Studies/Work/Brazil social insurance\")"
   ]
  },
  {
   "cell_type": "code",
   "execution_count": 28,
   "id": "51eb8b56",
   "metadata": {},
   "outputs": [],
   "source": [
    "# Data storage\n",
    "data = []\n",
    "\n",
    "# Function to kill Chrome processes\n",
    "def kill_chrome():\n",
    "    \"\"\"Kill all Chrome processes.\"\"\"\n",
    "    for proc in psutil.process_iter(['pid', 'name']):\n",
    "        if 'chrome' in proc.info['name'].lower():\n",
    "            try:\n",
    "                proc.kill()\n",
    "            except psutil.NoSuchProcess:\n",
    "                pass\n",
    "\n",
    "# Scraper function\n",
    "def scrape_data(cnpj,year, soup, table):\n",
    "    if not table:\n",
    "        '''\n",
    "        print(f\"No table found for {cnpj}\")\n",
    "        data.append({'cnpj': cnpj,\n",
    "                      'periodo': year,\n",
    "                      'data_found': False})\n",
    "        return\n",
    "        '''\n",
    "    rows = table.find('tbody').find_all('tr', class_='pa')\n",
    "    for row in rows:\n",
    "        cells = row.find_all('td')\n",
    "        if len(cells) < 10:\n",
    "            continue\n",
    "        data.append({\n",
    "            'cnpj': cnpj,\n",
    "            'periodo': cells[1].get_text(strip=True),\n",
    "            'apurado': cells[2].get_text(strip=True),\n",
    "            'INSS': cells[3].get_text(strip=True),\n",
    "            'principal': cells[4].get_text(strip=True),\n",
    "            'multa': cells[5].get_text(strip=True),\n",
    "            'juros': cells[6].get_text(strip=True),\n",
    "            'total': cells[7].get_text(strip=True),\n",
    "            'vencimento': cells[8].get_text(strip=True),\n",
    "            'acolhimento': cells[9].get_text(strip=True),\n",
    "            'data_found': True\n",
    "        })"
   ]
  },
  {
   "cell_type": "markdown",
   "id": "e30ea966",
   "metadata": {},
   "source": [
    "**Import master**"
   ]
  },
  {
   "cell_type": "code",
   "execution_count": 8,
   "id": "5f346739",
   "metadata": {},
   "outputs": [
    {
     "name": "stderr",
     "output_type": "stream",
     "text": [
      "C:\\Users\\edward_b\\AppData\\Local\\Temp\\ipykernel_37168\\2426474582.py:2: DtypeWarning: Columns (3) have mixed types. Specify dtype option on import or set low_memory=False.\n",
      "  cnpj_master = pd.read_csv(f'{path}/simples.csv', sep=',', encoding='utf-8')\n"
     ]
    }
   ],
   "source": [
    "path = \"raw/CNPJ numbers\"\n",
    "cnpj_master = pd.read_csv(f'{path}/simples.csv', sep=',', encoding='utf-8')\n",
    "cnpj_master = cnpj_master[['cnpj_basico','opcao_mei']]"
   ]
  },
  {
   "cell_type": "code",
   "execution_count": 9,
   "id": "1cbf235b",
   "metadata": {},
   "outputs": [],
   "source": [
    "# find length of cnpj\n",
    "cnpj_master[\"length cnpj_basico\"] = cnpj_master[\"cnpj_basico\"].astype(str).str.len()\n"
   ]
  },
  {
   "cell_type": "code",
   "execution_count": 10,
   "id": "afff266b",
   "metadata": {},
   "outputs": [
    {
     "data": {
      "application/vnd.microsoft.datawrangler.viewer.v0+json": {
       "columns": [
        {
         "name": "length cnpj_basico",
         "rawType": "object",
         "type": "unknown"
        },
        {
         "name": "0",
         "rawType": "int64",
         "type": "integer"
        },
        {
         "name": "1",
         "rawType": "int64",
         "type": "integer"
        },
        {
         "name": "Total",
         "rawType": "int64",
         "type": "integer"
        }
       ],
       "conversionMethod": "pd.DataFrame",
       "ref": "bcf7749c-e476-4629-9bba-b6901cb46194",
       "rows": [
        [
         "1",
         "3",
         "0",
         "3"
        ],
        [
         "2",
         "11",
         "0",
         "11"
        ],
        [
         "3",
         "112",
         "0",
         "112"
        ],
        [
         "4",
         "1354",
         "24",
         "1378"
        ],
        [
         "5",
         "9966",
         "220",
         "10186"
        ],
        [
         "6",
         "151689",
         "3631",
         "155320"
        ],
        [
         "7",
         "2864598",
         "53032",
         "2917630"
        ],
        [
         "8",
         "23322728",
         "15313596",
         "38636324"
        ],
        [
         "Total",
         "26350461",
         "15370503",
         "41720964"
        ]
       ],
       "shape": {
        "columns": 3,
        "rows": 9
       }
      },
      "text/html": [
       "<div>\n",
       "<style scoped>\n",
       "    .dataframe tbody tr th:only-of-type {\n",
       "        vertical-align: middle;\n",
       "    }\n",
       "\n",
       "    .dataframe tbody tr th {\n",
       "        vertical-align: top;\n",
       "    }\n",
       "\n",
       "    .dataframe thead th {\n",
       "        text-align: right;\n",
       "    }\n",
       "</style>\n",
       "<table border=\"1\" class=\"dataframe\">\n",
       "  <thead>\n",
       "    <tr style=\"text-align: right;\">\n",
       "      <th>opcao_mei</th>\n",
       "      <th>0</th>\n",
       "      <th>1</th>\n",
       "      <th>Total</th>\n",
       "    </tr>\n",
       "    <tr>\n",
       "      <th>length cnpj_basico</th>\n",
       "      <th></th>\n",
       "      <th></th>\n",
       "      <th></th>\n",
       "    </tr>\n",
       "  </thead>\n",
       "  <tbody>\n",
       "    <tr>\n",
       "      <th>1</th>\n",
       "      <td>3</td>\n",
       "      <td>0</td>\n",
       "      <td>3</td>\n",
       "    </tr>\n",
       "    <tr>\n",
       "      <th>2</th>\n",
       "      <td>11</td>\n",
       "      <td>0</td>\n",
       "      <td>11</td>\n",
       "    </tr>\n",
       "    <tr>\n",
       "      <th>3</th>\n",
       "      <td>112</td>\n",
       "      <td>0</td>\n",
       "      <td>112</td>\n",
       "    </tr>\n",
       "    <tr>\n",
       "      <th>4</th>\n",
       "      <td>1354</td>\n",
       "      <td>24</td>\n",
       "      <td>1378</td>\n",
       "    </tr>\n",
       "    <tr>\n",
       "      <th>5</th>\n",
       "      <td>9966</td>\n",
       "      <td>220</td>\n",
       "      <td>10186</td>\n",
       "    </tr>\n",
       "    <tr>\n",
       "      <th>6</th>\n",
       "      <td>151689</td>\n",
       "      <td>3631</td>\n",
       "      <td>155320</td>\n",
       "    </tr>\n",
       "    <tr>\n",
       "      <th>7</th>\n",
       "      <td>2864598</td>\n",
       "      <td>53032</td>\n",
       "      <td>2917630</td>\n",
       "    </tr>\n",
       "    <tr>\n",
       "      <th>8</th>\n",
       "      <td>23322728</td>\n",
       "      <td>15313596</td>\n",
       "      <td>38636324</td>\n",
       "    </tr>\n",
       "    <tr>\n",
       "      <th>Total</th>\n",
       "      <td>26350461</td>\n",
       "      <td>15370503</td>\n",
       "      <td>41720964</td>\n",
       "    </tr>\n",
       "  </tbody>\n",
       "</table>\n",
       "</div>"
      ],
      "text/plain": [
       "opcao_mei                  0         1     Total\n",
       "length cnpj_basico                              \n",
       "1                          3         0         3\n",
       "2                         11         0        11\n",
       "3                        112         0       112\n",
       "4                       1354        24      1378\n",
       "5                       9966       220     10186\n",
       "6                     151689      3631    155320\n",
       "7                    2864598     53032   2917630\n",
       "8                   23322728  15313596  38636324\n",
       "Total               26350461  15370503  41720964"
      ]
     },
     "execution_count": 10,
     "metadata": {},
     "output_type": "execute_result"
    }
   ],
   "source": [
    "pd.crosstab(cnpj_master[\"length cnpj_basico\"], cnpj_master[\"opcao_mei\"], margins=True, margins_name=\"Total\")"
   ]
  },
  {
   "cell_type": "code",
   "execution_count": 11,
   "id": "ba0f732b",
   "metadata": {},
   "outputs": [],
   "source": [
    "cnpj_master[\"cnpj_basico\"] = cnpj_master[\"cnpj_basico\"].astype(str)"
   ]
  },
  {
   "cell_type": "code",
   "execution_count": 12,
   "id": "6740578c",
   "metadata": {},
   "outputs": [],
   "source": [
    "cnpj_master = cnpj_master[cnpj_master['opcao_mei'] == 1]\n",
    "cnpj_master.drop(columns=['length cnpj_basico'], inplace=True)"
   ]
  },
  {
   "cell_type": "markdown",
   "id": "693e2916",
   "metadata": {},
   "source": [
    "**Import example full file**"
   ]
  },
  {
   "cell_type": "code",
   "execution_count": 13,
   "id": "f7abcd84",
   "metadata": {},
   "outputs": [],
   "source": [
    "cnpj_test = pd.read_csv(f'{path}/establishmentsAC.csv', sep=',', encoding='utf-8')\n",
    "cnpj_test = cnpj_test[['cnpj']]\n",
    "cnpj_test[\"cnpj_basico\"] = cnpj_test[\"cnpj\"].astype(str).str[:8]"
   ]
  },
  {
   "cell_type": "code",
   "execution_count": 14,
   "id": "1c01d883",
   "metadata": {},
   "outputs": [],
   "source": [
    "cnpj_merged = pd.merge(cnpj_master, cnpj_test, left_on='cnpj_basico', right_on='cnpj_basico', how='inner')"
   ]
  },
  {
   "cell_type": "code",
   "execution_count": 15,
   "id": "258d2f4c",
   "metadata": {},
   "outputs": [
    {
     "data": {
      "text/plain": [
       "<Axes: >"
      ]
     },
     "execution_count": 15,
     "metadata": {},
     "output_type": "execute_result"
    },
    {
     "data": {
      "image/png": "[encoded data removed]",
      "text/plain": [
       "<Figure size 640x480 with 1 Axes>"
      ]
     },
     "metadata": {},
     "output_type": "display_data"
    }
   ],
   "source": [
    "cnpj_merged[\"cnpj\"] = cnpj_merged[\"cnpj\"].astype(str)\n",
    "cnpj_merged[\"cnpj\"].str.len().hist()"
   ]
  },
  {
   "cell_type": "code",
   "execution_count": 16,
   "id": "2cbf108e",
   "metadata": {},
   "outputs": [],
   "source": [
    "cnpj_merged = cnpj_merged[cnpj_merged['cnpj'].str.len() == 14]\n",
    "cnpj_merged = cnpj_merged.drop_duplicates(subset=['cnpj'], keep='first')"
   ]
  },
  {
   "cell_type": "code",
   "execution_count": 17,
   "id": "89e4890a",
   "metadata": {},
   "outputs": [],
   "source": [
    "cnpj_merged.to_csv('MEI_numbers.csv', sep=',', encoding='utf-8', index=False)"
   ]
  },
  {
   "cell_type": "markdown",
   "id": "46d10065",
   "metadata": {},
   "source": [
    "**Load in MEI numbers and start scraping**"
   ]
  },
  {
   "cell_type": "code",
   "execution_count": 86,
   "id": "c7dac715",
   "metadata": {},
   "outputs": [],
   "source": [
    "cnpj_merged = pd.read_csv('MEI_numbers.csv', sep=',', encoding='utf-8')"
   ]
  },
  {
   "cell_type": "code",
   "execution_count": 87,
   "id": "a089f127",
   "metadata": {},
   "outputs": [],
   "source": [
    "proxy_list = pd.read_csv(\"scripts/proxies.txt\", sep=',', encoding='utf-8', header=None, names=['proxy'])\n",
    "proxy_list = proxy_list[\"proxy\"].to_list()"
   ]
  },
  {
   "cell_type": "code",
   "execution_count": 88,
   "id": "c66c6e4e",
   "metadata": {},
   "outputs": [
    {
     "data": {
      "application/vnd.microsoft.datawrangler.viewer.v0+json": {
       "columns": [
        {
         "name": "index",
         "rawType": "int64",
         "type": "integer"
        },
        {
         "name": "cnpj_basico",
         "rawType": "int64",
         "type": "integer"
        },
        {
         "name": "opcao_mei",
         "rawType": "int64",
         "type": "integer"
        },
        {
         "name": "cnpj",
         "rawType": "int64",
         "type": "integer"
        }
       ],
       "ref": "c07e19d2-1d02-47b6-b979-2833ca1ffe1b",
       "rows": [
        [
         "0",
         "30065905",
         "1",
         "30065905000100"
        ],
        [
         "1",
         "32831731",
         "1",
         "32831731000175"
        ],
        [
         "2",
         "22218125",
         "1",
         "22218125000125"
        ],
        [
         "3",
         "15028093",
         "1",
         "15028093000130"
        ],
        [
         "4",
         "28915161",
         "1",
         "28915161000124"
        ],
        [
         "5",
         "24287598",
         "1",
         "24287598000100"
        ],
        [
         "6",
         "30569737",
         "1",
         "30569737000190"
        ],
        [
         "7",
         "40676168",
         "1",
         "40676168000136"
        ],
        [
         "8",
         "17949080",
         "1",
         "17949080000129"
        ],
        [
         "9",
         "30079527",
         "1",
         "30079527000114"
        ],
        [
         "10",
         "36796165",
         "1",
         "36796165000169"
        ],
        [
         "11",
         "37192776",
         "1",
         "37192776000160"
        ],
        [
         "12",
         "34319039",
         "1",
         "34319039000198"
        ],
        [
         "13",
         "42078273",
         "1",
         "42078273000107"
        ],
        [
         "14",
         "30334592",
         "1",
         "30334592000149"
        ],
        [
         "15",
         "36601281",
         "1",
         "36601281000185"
        ],
        [
         "16",
         "27730671",
         "1",
         "27730671000164"
        ],
        [
         "17",
         "17428937",
         "1",
         "17428937000165"
        ],
        [
         "18",
         "40278351",
         "1",
         "40278351000183"
        ],
        [
         "19",
         "42916063",
         "1",
         "42916063000132"
        ],
        [
         "20",
         "12408064",
         "1",
         "12408064000105"
        ],
        [
         "21",
         "33911797",
         "1",
         "33911797000138"
        ],
        [
         "22",
         "33407505",
         "1",
         "33407505000124"
        ],
        [
         "23",
         "43691045",
         "1",
         "43691045000162"
        ],
        [
         "24",
         "43365165",
         "1",
         "43365165000170"
        ],
        [
         "25",
         "27715900",
         "1",
         "27715900000171"
        ],
        [
         "26",
         "40466649",
         "1",
         "40466649000117"
        ],
        [
         "27",
         "12914480",
         "1",
         "12914480000185"
        ],
        [
         "28",
         "40710174",
         "1",
         "40710174000162"
        ],
        [
         "29",
         "43531252",
         "1",
         "43531252000150"
        ],
        [
         "30",
         "32238425",
         "1",
         "32238425000120"
        ],
        [
         "31",
         "32485057",
         "1",
         "32485057000114"
        ],
        [
         "32",
         "39386971",
         "1",
         "39386971000157"
        ],
        [
         "33",
         "40169175",
         "1",
         "40169175000141"
        ],
        [
         "34",
         "32960990",
         "1",
         "32960990000104"
        ],
        [
         "35",
         "41201950",
         "1",
         "41201950000161"
        ],
        [
         "36",
         "34732125",
         "1",
         "34732125000128"
        ],
        [
         "37",
         "34704494",
         "1",
         "34704494000107"
        ],
        [
         "38",
         "34006581",
         "1",
         "34006581000190"
        ],
        [
         "39",
         "38926178",
         "1",
         "38926178000130"
        ],
        [
         "40",
         "42050465",
         "1",
         "42050465000105"
        ],
        [
         "41",
         "40463732",
         "1",
         "40463732000132"
        ],
        [
         "42",
         "33158860",
         "1",
         "33158860000107"
        ],
        [
         "43",
         "42010591",
         "1",
         "42010591000128"
        ],
        [
         "44",
         "12873648",
         "1",
         "12873648000151"
        ],
        [
         "45",
         "42654763",
         "1",
         "42654763000104"
        ],
        [
         "46",
         "15582739",
         "1",
         "15582739000126"
        ],
        [
         "47",
         "27786587",
         "1",
         "27786587000162"
        ],
        [
         "48",
         "27049825",
         "1",
         "27049825000157"
        ],
        [
         "49",
         "24467613",
         "1",
         "24467613000100"
        ]
       ],
       "shape": {
        "columns": 3,
        "rows": 13894
       }
      },
      "text/html": [
       "<div>\n",
       "<style scoped>\n",
       "    .dataframe tbody tr th:only-of-type {\n",
       "        vertical-align: middle;\n",
       "    }\n",
       "\n",
       "    .dataframe tbody tr th {\n",
       "        vertical-align: top;\n",
       "    }\n",
       "\n",
       "    .dataframe thead th {\n",
       "        text-align: right;\n",
       "    }\n",
       "</style>\n",
       "<table border=\"1\" class=\"dataframe\">\n",
       "  <thead>\n",
       "    <tr style=\"text-align: right;\">\n",
       "      <th></th>\n",
       "      <th>cnpj_basico</th>\n",
       "      <th>opcao_mei</th>\n",
       "      <th>cnpj</th>\n",
       "    </tr>\n",
       "  </thead>\n",
       "  <tbody>\n",
       "    <tr>\n",
       "      <th>0</th>\n",
       "      <td>30065905</td>\n",
       "      <td>1</td>\n",
       "      <td>30065905000100</td>\n",
       "    </tr>\n",
       "    <tr>\n",
       "      <th>1</th>\n",
       "      <td>32831731</td>\n",
       "      <td>1</td>\n",
       "      <td>32831731000175</td>\n",
       "    </tr>\n",
       "    <tr>\n",
       "      <th>2</th>\n",
       "      <td>22218125</td>\n",
       "      <td>1</td>\n",
       "      <td>22218125000125</td>\n",
       "    </tr>\n",
       "    <tr>\n",
       "      <th>3</th>\n",
       "      <td>15028093</td>\n",
       "      <td>1</td>\n",
       "      <td>15028093000130</td>\n",
       "    </tr>\n",
       "    <tr>\n",
       "      <th>4</th>\n",
       "      <td>28915161</td>\n",
       "      <td>1</td>\n",
       "      <td>28915161000124</td>\n",
       "    </tr>\n",
       "    <tr>\n",
       "      <th>...</th>\n",
       "      <td>...</td>\n",
       "      <td>...</td>\n",
       "      <td>...</td>\n",
       "    </tr>\n",
       "    <tr>\n",
       "      <th>13889</th>\n",
       "      <td>35250850</td>\n",
       "      <td>1</td>\n",
       "      <td>35250850000122</td>\n",
       "    </tr>\n",
       "    <tr>\n",
       "      <th>13890</th>\n",
       "      <td>12352071</td>\n",
       "      <td>1</td>\n",
       "      <td>12352071000132</td>\n",
       "    </tr>\n",
       "    <tr>\n",
       "      <th>13891</th>\n",
       "      <td>25054527</td>\n",
       "      <td>1</td>\n",
       "      <td>25054527000120</td>\n",
       "    </tr>\n",
       "    <tr>\n",
       "      <th>13892</th>\n",
       "      <td>29879083</td>\n",
       "      <td>1</td>\n",
       "      <td>29879083000112</td>\n",
       "    </tr>\n",
       "    <tr>\n",
       "      <th>13893</th>\n",
       "      <td>41502805</td>\n",
       "      <td>1</td>\n",
       "      <td>41502805000110</td>\n",
       "    </tr>\n",
       "  </tbody>\n",
       "</table>\n",
       "<p>13894 rows × 3 columns</p>\n",
       "</div>"
      ],
      "text/plain": [
       "       cnpj_basico  opcao_mei            cnpj\n",
       "0         30065905          1  30065905000100\n",
       "1         32831731          1  32831731000175\n",
       "2         22218125          1  22218125000125\n",
       "3         15028093          1  15028093000130\n",
       "4         28915161          1  28915161000124\n",
       "...            ...        ...             ...\n",
       "13889     35250850          1  35250850000122\n",
       "13890     12352071          1  12352071000132\n",
       "13891     25054527          1  25054527000120\n",
       "13892     29879083          1  29879083000112\n",
       "13893     41502805          1  41502805000110\n",
       "\n",
       "[13894 rows x 3 columns]"
      ]
     },
     "execution_count": 88,
     "metadata": {},
     "output_type": "execute_result"
    }
   ],
   "source": [
    "cnpj_merged"
   ]
  },
  {
   "cell_type": "code",
   "execution_count": 89,
   "id": "355e8e64",
   "metadata": {},
   "outputs": [],
   "source": [
    "# get random sample of 10\n",
    "cnpj_merged = cnpj_merged.sample(n=3, random_state=10)\n",
    "#convert cnpj's to a list\n",
    "cnpj_list = cnpj_merged['cnpj'].tolist()"
   ]
  },
  {
   "cell_type": "code",
   "execution_count": 90,
   "id": "15541b3c",
   "metadata": {},
   "outputs": [
    {
     "data": {
      "text/plain": [
       "(3, 3)"
      ]
     },
     "execution_count": 90,
     "metadata": {},
     "output_type": "execute_result"
    }
   ],
   "source": [
    "cnpj_merged.shape # 13,894 obs"
   ]
  },
  {
   "cell_type": "markdown",
   "id": "d37d94dd",
   "metadata": {},
   "source": [
    "**Set up scraper**"
   ]
  },
  {
   "cell_type": "code",
   "execution_count": 91,
   "id": "0b718830",
   "metadata": {},
   "outputs": [
    {
     "data": {
      "text/plain": [
       "['28740844000198', '11757216000112', '33962463000193']"
      ]
     },
     "execution_count": 91,
     "metadata": {},
     "output_type": "execute_result"
    }
   ],
   "source": [
    "cnpj_list = [str(i) for i in cnpj_list]\n",
    "cnpj_list"
   ]
  },
  {
   "cell_type": "code",
   "execution_count": 55,
   "id": "e8f7a064",
   "metadata": {},
   "outputs": [
    {
     "data": {
      "text/plain": [
       "['12902387000150']"
      ]
     },
     "execution_count": 55,
     "metadata": {},
     "output_type": "execute_result"
    }
   ],
   "source": [
    "cnpj_list = [\"12902387000150\"]\n",
    "cnpj_list"
   ]
  },
  {
   "cell_type": "code",
   "execution_count": 92,
   "id": "e92761c4",
   "metadata": {},
   "outputs": [],
   "source": [
    "import shutil\n",
    "import os\n",
    "\n",
    "chrome_profile_path = \"C:/Temp/ChromeDebug\"\n",
    "if os.path.exists(chrome_profile_path):\n",
    "    shutil.rmtree(chrome_profile_path)  # delete the profile folder"
   ]
  },
  {
   "cell_type": "code",
   "execution_count": 93,
   "id": "e6003240",
   "metadata": {},
   "outputs": [],
   "source": [
    "log_file = 'mei_scraper_log.log'\n",
    "with open(log_file, 'w'):\n",
    "    pass  # This empties the file\n",
    "logging.basicConfig(\n",
    "    level=logging.INFO,\n",
    "    format='%(asctime)s - %(levelname)s - %(message)s',\n",
    "    handlers=[\n",
    "        RotatingFileHandler(log_file, maxBytes=5*1024*1024, backupCount=3),  # 5MB per file\n",
    "        logging.StreamHandler()  # Optional: print to console too\n",
    "    ]\n",
    ")"
   ]
  },
  {
   "cell_type": "markdown",
   "id": "d865096c",
   "metadata": {},
   "source": []
  },
  {
   "cell_type": "code",
   "execution_count": 94,
   "id": "7cacf97e",
   "metadata": {},
   "outputs": [
    {
     "name": "stderr",
     "output_type": "stream",
     "text": [
      "--- Logging error ---\n",
      "Traceback (most recent call last):\n",
      "  File \"C:\\Program Files\\WindowsApps\\PythonSoftwareFoundation.Python.3.12_3.12.2800.0_x64__qbz5n2kfra8p0\\Lib\\logging\\handlers.py\", line 73, in emit\n",
      "    if self.shouldRollover(record):\n",
      "       ^^^^^^^^^^^^^^^^^^^^^^^^^^^\n",
      "  File \"C:\\Program Files\\WindowsApps\\PythonSoftwareFoundation.Python.3.12_3.12.2800.0_x64__qbz5n2kfra8p0\\Lib\\logging\\handlers.py\", line 197, in shouldRollover\n",
      "    msg = \"%s\\n\" % self.format(record)\n",
      "                   ^^^^^^^^^^^^^^^^^^^\n",
      "  File \"C:\\Program Files\\WindowsApps\\PythonSoftwareFoundation.Python.3.12_3.12.2800.0_x64__qbz5n2kfra8p0\\Lib\\logging\\__init__.py\", line 999, in format\n",
      "    return fmt.format(record)\n",
      "           ^^^^^^^^^^^^^^^^^^\n",
      "  File \"C:\\Program Files\\WindowsApps\\PythonSoftwareFoundation.Python.3.12_3.12.2800.0_x64__qbz5n2kfra8p0\\Lib\\logging\\__init__.py\", line 703, in format\n",
      "    record.message = record.getMessage()\n",
      "                     ^^^^^^^^^^^^^^^^^^^\n",
      "  File \"C:\\Program Files\\WindowsApps\\PythonSoftwareFoundation.Python.3.12_3.12.2800.0_x64__qbz5n2kfra8p0\\Lib\\logging\\__init__.py\", line 392, in getMessage\n",
      "    msg = msg % self.args\n",
      "          ~~~~^~~~~~~~~~~\n",
      "TypeError: not all arguments converted during string formatting\n",
      "Call stack:\n",
      "  File \"<frozen runpy>\", line 198, in _run_module_as_main\n",
      "  File \"<frozen runpy>\", line 88, in _run_code\n",
      "  File \"c:\\Users\\edward_b\\OneDrive - Institute for Fiscal Studies\\Work\\Brazil social insurance\\venv\\Lib\\site-packages\\ipykernel_launcher.py\", line 18, in <module>\n",
      "    app.launch_new_instance()\n",
      "  File \"c:\\Users\\edward_b\\OneDrive - Institute for Fiscal Studies\\Work\\Brazil social insurance\\venv\\Lib\\site-packages\\traitlets\\config\\application.py\", line 1075, in launch_instance\n",
      "    app.start()\n",
      "  File \"c:\\Users\\edward_b\\OneDrive - Institute for Fiscal Studies\\Work\\Brazil social insurance\\venv\\Lib\\site-packages\\ipykernel\\kernelapp.py\", line 739, in start\n",
      "    self.io_loop.start()\n",
      "  File \"c:\\Users\\edward_b\\OneDrive - Institute for Fiscal Studies\\Work\\Brazil social insurance\\venv\\Lib\\site-packages\\tornado\\platform\\asyncio.py\", line 205, in start\n",
      "    self.asyncio_loop.run_forever()\n",
      "  File \"C:\\Program Files\\WindowsApps\\PythonSoftwareFoundation.Python.3.12_3.12.2800.0_x64__qbz5n2kfra8p0\\Lib\\asyncio\\base_events.py\", line 645, in run_forever\n",
      "    self._run_once()\n",
      "  File \"C:\\Program Files\\WindowsApps\\PythonSoftwareFoundation.Python.3.12_3.12.2800.0_x64__qbz5n2kfra8p0\\Lib\\asyncio\\base_events.py\", line 1999, in _run_once\n",
      "    handle._run()\n",
      "  File \"C:\\Program Files\\WindowsApps\\PythonSoftwareFoundation.Python.3.12_3.12.2800.0_x64__qbz5n2kfra8p0\\Lib\\asyncio\\events.py\", line 88, in _run\n",
      "    self._context.run(self._callback, *self._args)\n",
      "  File \"c:\\Users\\edward_b\\OneDrive - Institute for Fiscal Studies\\Work\\Brazil social insurance\\venv\\Lib\\site-packages\\ipykernel\\kernelbase.py\", line 545, in dispatch_queue\n",
      "    await self.process_one()\n",
      "  File \"c:\\Users\\edward_b\\OneDrive - Institute for Fiscal Studies\\Work\\Brazil social insurance\\venv\\Lib\\site-packages\\ipykernel\\kernelbase.py\", line 534, in process_one\n",
      "    await dispatch(*args)\n",
      "  File \"c:\\Users\\edward_b\\OneDrive - Institute for Fiscal Studies\\Work\\Brazil social insurance\\venv\\Lib\\site-packages\\ipykernel\\kernelbase.py\", line 437, in dispatch_shell\n",
      "    await result\n",
      "  File \"c:\\Users\\edward_b\\OneDrive - Institute for Fiscal Studies\\Work\\Brazil social insurance\\venv\\Lib\\site-packages\\ipykernel\\ipkernel.py\", line 362, in execute_request\n",
      "    await super().execute_request(stream, ident, parent)\n",
      "  File \"c:\\Users\\edward_b\\OneDrive - Institute for Fiscal Studies\\Work\\Brazil social insurance\\venv\\Lib\\site-packages\\ipykernel\\kernelbase.py\", line 778, in execute_request\n",
      "    reply_content = await reply_content\n",
      "  File \"c:\\Users\\edward_b\\OneDrive - Institute for Fiscal Studies\\Work\\Brazil social insurance\\venv\\Lib\\site-packages\\ipykernel\\ipkernel.py\", line 449, in do_execute\n",
      "    res = shell.run_cell(\n",
      "  File \"c:\\Users\\edward_b\\OneDrive - Institute for Fiscal Studies\\Work\\Brazil social insurance\\venv\\Lib\\site-packages\\ipykernel\\zmqshell.py\", line 549, in run_cell\n",
      "    return super().run_cell(*args, **kwargs)\n",
      "  File \"c:\\Users\\edward_b\\OneDrive - Institute for Fiscal Studies\\Work\\Brazil social insurance\\venv\\Lib\\site-packages\\IPython\\core\\interactiveshell.py\", line 3098, in run_cell\n",
      "    result = self._run_cell(\n",
      "  File \"c:\\Users\\edward_b\\OneDrive - Institute for Fiscal Studies\\Work\\Brazil social insurance\\venv\\Lib\\site-packages\\IPython\\core\\interactiveshell.py\", line 3153, in _run_cell\n",
      "    result = runner(coro)\n",
      "  File \"c:\\Users\\edward_b\\OneDrive - Institute for Fiscal Studies\\Work\\Brazil social insurance\\venv\\Lib\\site-packages\\IPython\\core\\async_helpers.py\", line 128, in _pseudo_sync_runner\n",
      "    coro.send(None)\n",
      "  File \"c:\\Users\\edward_b\\OneDrive - Institute for Fiscal Studies\\Work\\Brazil social insurance\\venv\\Lib\\site-packages\\IPython\\core\\interactiveshell.py\", line 3365, in run_cell_async\n",
      "    has_raised = await self.run_ast_nodes(code_ast.body, cell_name,\n",
      "  File \"c:\\Users\\edward_b\\OneDrive - Institute for Fiscal Studies\\Work\\Brazil social insurance\\venv\\Lib\\site-packages\\IPython\\core\\interactiveshell.py\", line 3610, in run_ast_nodes\n",
      "    if await self.run_code(code, result, async_=asy):\n",
      "  File \"c:\\Users\\edward_b\\OneDrive - Institute for Fiscal Studies\\Work\\Brazil social insurance\\venv\\Lib\\site-packages\\IPython\\core\\interactiveshell.py\", line 3670, in run_code\n",
      "    exec(code_obj, self.user_global_ns, self.user_ns)\n",
      "  File \"C:\\Users\\edward_b\\AppData\\Local\\Temp\\ipykernel_24324\\2678715565.py\", line 11, in <module>\n",
      "    logging.info(\"Processing CNPJ:\", cnpj)\n",
      "Message: 'Processing CNPJ:'\n",
      "Arguments: ('28740844000198',)\n",
      "--- Logging error ---\n",
      "Traceback (most recent call last):\n",
      "  File \"C:\\Program Files\\WindowsApps\\PythonSoftwareFoundation.Python.3.12_3.12.2800.0_x64__qbz5n2kfra8p0\\Lib\\logging\\__init__.py\", line 1160, in emit\n",
      "    msg = self.format(record)\n",
      "          ^^^^^^^^^^^^^^^^^^^\n",
      "  File \"C:\\Program Files\\WindowsApps\\PythonSoftwareFoundation.Python.3.12_3.12.2800.0_x64__qbz5n2kfra8p0\\Lib\\logging\\__init__.py\", line 999, in format\n",
      "    return fmt.format(record)\n",
      "           ^^^^^^^^^^^^^^^^^^\n",
      "  File \"C:\\Program Files\\WindowsApps\\PythonSoftwareFoundation.Python.3.12_3.12.2800.0_x64__qbz5n2kfra8p0\\Lib\\logging\\__init__.py\", line 703, in format\n",
      "    record.message = record.getMessage()\n",
      "                     ^^^^^^^^^^^^^^^^^^^\n",
      "  File \"C:\\Program Files\\WindowsApps\\PythonSoftwareFoundation.Python.3.12_3.12.2800.0_x64__qbz5n2kfra8p0\\Lib\\logging\\__init__.py\", line 392, in getMessage\n",
      "    msg = msg % self.args\n",
      "          ~~~~^~~~~~~~~~~\n",
      "TypeError: not all arguments converted during string formatting\n",
      "Call stack:\n",
      "  File \"<frozen runpy>\", line 198, in _run_module_as_main\n",
      "  File \"<frozen runpy>\", line 88, in _run_code\n",
      "  File \"c:\\Users\\edward_b\\OneDrive - Institute for Fiscal Studies\\Work\\Brazil social insurance\\venv\\Lib\\site-packages\\ipykernel_launcher.py\", line 18, in <module>\n",
      "    app.launch_new_instance()\n",
      "  File \"c:\\Users\\edward_b\\OneDrive - Institute for Fiscal Studies\\Work\\Brazil social insurance\\venv\\Lib\\site-packages\\traitlets\\config\\application.py\", line 1075, in launch_instance\n",
      "    app.start()\n",
      "  File \"c:\\Users\\edward_b\\OneDrive - Institute for Fiscal Studies\\Work\\Brazil social insurance\\venv\\Lib\\site-packages\\ipykernel\\kernelapp.py\", line 739, in start\n",
      "    self.io_loop.start()\n",
      "  File \"c:\\Users\\edward_b\\OneDrive - Institute for Fiscal Studies\\Work\\Brazil social insurance\\venv\\Lib\\site-packages\\tornado\\platform\\asyncio.py\", line 205, in start\n",
      "    self.asyncio_loop.run_forever()\n",
      "  File \"C:\\Program Files\\WindowsApps\\PythonSoftwareFoundation.Python.3.12_3.12.2800.0_x64__qbz5n2kfra8p0\\Lib\\asyncio\\base_events.py\", line 645, in run_forever\n",
      "    self._run_once()\n",
      "  File \"C:\\Program Files\\WindowsApps\\PythonSoftwareFoundation.Python.3.12_3.12.2800.0_x64__qbz5n2kfra8p0\\Lib\\asyncio\\base_events.py\", line 1999, in _run_once\n",
      "    handle._run()\n",
      "  File \"C:\\Program Files\\WindowsApps\\PythonSoftwareFoundation.Python.3.12_3.12.2800.0_x64__qbz5n2kfra8p0\\Lib\\asyncio\\events.py\", line 88, in _run\n",
      "    self._context.run(self._callback, *self._args)\n",
      "  File \"c:\\Users\\edward_b\\OneDrive - Institute for Fiscal Studies\\Work\\Brazil social insurance\\venv\\Lib\\site-packages\\ipykernel\\kernelbase.py\", line 545, in dispatch_queue\n",
      "    await self.process_one()\n",
      "  File \"c:\\Users\\edward_b\\OneDrive - Institute for Fiscal Studies\\Work\\Brazil social insurance\\venv\\Lib\\site-packages\\ipykernel\\kernelbase.py\", line 534, in process_one\n",
      "    await dispatch(*args)\n",
      "  File \"c:\\Users\\edward_b\\OneDrive - Institute for Fiscal Studies\\Work\\Brazil social insurance\\venv\\Lib\\site-packages\\ipykernel\\kernelbase.py\", line 437, in dispatch_shell\n",
      "    await result\n",
      "  File \"c:\\Users\\edward_b\\OneDrive - Institute for Fiscal Studies\\Work\\Brazil social insurance\\venv\\Lib\\site-packages\\ipykernel\\ipkernel.py\", line 362, in execute_request\n",
      "    await super().execute_request(stream, ident, parent)\n",
      "  File \"c:\\Users\\edward_b\\OneDrive - Institute for Fiscal Studies\\Work\\Brazil social insurance\\venv\\Lib\\site-packages\\ipykernel\\kernelbase.py\", line 778, in execute_request\n",
      "    reply_content = await reply_content\n",
      "  File \"c:\\Users\\edward_b\\OneDrive - Institute for Fiscal Studies\\Work\\Brazil social insurance\\venv\\Lib\\site-packages\\ipykernel\\ipkernel.py\", line 449, in do_execute\n",
      "    res = shell.run_cell(\n",
      "  File \"c:\\Users\\edward_b\\OneDrive - Institute for Fiscal Studies\\Work\\Brazil social insurance\\venv\\Lib\\site-packages\\ipykernel\\zmqshell.py\", line 549, in run_cell\n",
      "    return super().run_cell(*args, **kwargs)\n",
      "  File \"c:\\Users\\edward_b\\OneDrive - Institute for Fiscal Studies\\Work\\Brazil social insurance\\venv\\Lib\\site-packages\\IPython\\core\\interactiveshell.py\", line 3098, in run_cell\n",
      "    result = self._run_cell(\n",
      "  File \"c:\\Users\\edward_b\\OneDrive - Institute for Fiscal Studies\\Work\\Brazil social insurance\\venv\\Lib\\site-packages\\IPython\\core\\interactiveshell.py\", line 3153, in _run_cell\n",
      "    result = runner(coro)\n",
      "  File \"c:\\Users\\edward_b\\OneDrive - Institute for Fiscal Studies\\Work\\Brazil social insurance\\venv\\Lib\\site-packages\\IPython\\core\\async_helpers.py\", line 128, in _pseudo_sync_runner\n",
      "    coro.send(None)\n",
      "  File \"c:\\Users\\edward_b\\OneDrive - Institute for Fiscal Studies\\Work\\Brazil social insurance\\venv\\Lib\\site-packages\\IPython\\core\\interactiveshell.py\", line 3365, in run_cell_async\n",
      "    has_raised = await self.run_ast_nodes(code_ast.body, cell_name,\n",
      "  File \"c:\\Users\\edward_b\\OneDrive - Institute for Fiscal Studies\\Work\\Brazil social insurance\\venv\\Lib\\site-packages\\IPython\\core\\interactiveshell.py\", line 3610, in run_ast_nodes\n",
      "    if await self.run_code(code, result, async_=asy):\n",
      "  File \"c:\\Users\\edward_b\\OneDrive - Institute for Fiscal Studies\\Work\\Brazil social insurance\\venv\\Lib\\site-packages\\IPython\\core\\interactiveshell.py\", line 3670, in run_code\n",
      "    exec(code_obj, self.user_global_ns, self.user_ns)\n",
      "  File \"C:\\Users\\edward_b\\AppData\\Local\\Temp\\ipykernel_24324\\2678715565.py\", line 11, in <module>\n",
      "    logging.info(\"Processing CNPJ:\", cnpj)\n",
      "Message: 'Processing CNPJ:'\n",
      "Arguments: ('28740844000198',)\n"
     ]
    },
    {
     "name": "stdout",
     "output_type": "stream",
     "text": [
      "Fatal error with CNPJ 28740844000198: Message: unknown error: net::ERR_TUNNEL_CONNECTION_FAILED\n",
      "  (Session info: chrome=136.0.7103.114)\n",
      "Stacktrace:\n",
      "\tGetHandleVerifier [0x00007FF6FB29CF45+75717]\n",
      "\tGetHandleVerifier [0x00007FF6FB29CFA0+75808]\n",
      "\t(No symbol) [0x00007FF6FB068F9A]\n",
      "\t(No symbol) [0x00007FF6FB0659F4]\n",
      "\t(No symbol) [0x00007FF6FB056789]\n",
      "\t(No symbol) [0x00007FF6FB0584F8]\n",
      "\t(No symbol) [0x00007FF6FB056A96]\n",
      "\t(No symbol) [0x00007FF6FB056516]\n",
      "\t(No symbol) [0x00007FF6FB0561DA]\n",
      "\t(No symbol) [0x00007FF6FB053E8A]\n",
      "\t(No symbol) [0x00007FF6FB05465C]\n",
      "\t(No symbol) [0x00007FF6FB06CF3A]\n",
      "\t(No symbol) [0x00007FF6FB11013E]\n",
      "\t(No symbol) [0x00007FF6FB0E737A]\n",
      "\t(No symbol) [0x00007FF6FB10F39C]\n",
      "\t(No symbol) [0x00007FF6FB0E7153]\n",
      "\t(No symbol) [0x00007FF6FB0B0421]\n",
      "\t(No symbol) [0x00007FF6FB0B11B3]\n",
      "\tGetHandleVerifier [0x00007FF6FB59D71D+3223453]\n",
      "\tGetHandleVerifier [0x00007FF6FB597CC2+3200322]\n",
      "\tGetHandleVerifier [0x00007FF6FB5B5AF3+3322739]\n",
      "\tGetHandleVerifier [0x00007FF6FB2B6A1A+180890]\n",
      "\tGetHandleVerifier [0x00007FF6FB2BE11F+211359]\n",
      "\tGetHandleVerifier [0x00007FF6FB2A5294+109332]\n",
      "\tGetHandleVerifier [0x00007FF6FB2A5442+109762]\n",
      "\tGetHandleVerifier [0x00007FF6FB28BA59+4825]\n",
      "\tBaseThreadInitThunk [0x00007FF8AB22E8D7+23]\n",
      "\tRtlUserThreadStart [0x00007FF8ACC9C5DC+44]\n",
      "\n"
     ]
    },
    {
     "name": "stderr",
     "output_type": "stream",
     "text": [
      "2025-05-23 12:36:44,626 - INFO - Finished CNPJ: 28740844000198 in 14.55 seconds\n",
      "\n",
      "2025-05-23 12:36:44,629 - INFO - Average time per CNPJ: 14.55 seconds\n",
      "2025-05-23 12:36:44,630 - INFO - Total time elapsed: 14.56 seconds\n",
      "\n"
     ]
    },
    {
     "ename": "KeyboardInterrupt",
     "evalue": "",
     "output_type": "error",
     "traceback": [
      "\u001b[31m---------------------------------------------------------------------------\u001b[39m",
      "\u001b[31mKeyboardInterrupt\u001b[39m                         Traceback (most recent call last)",
      "\u001b[36mCell\u001b[39m\u001b[36m \u001b[39m\u001b[32mIn[94]\u001b[39m\u001b[32m, line 152\u001b[39m\n\u001b[32m    150\u001b[39m logging.info(\u001b[33mf\u001b[39m\u001b[33m\"\u001b[39m\u001b[33mAverage time per CNPJ: \u001b[39m\u001b[38;5;132;01m{\u001b[39;00maverage_elapsed\u001b[38;5;132;01m:\u001b[39;00m\u001b[33m.2f\u001b[39m\u001b[38;5;132;01m}\u001b[39;00m\u001b[33m seconds\u001b[39m\u001b[33m\"\u001b[39m)\n\u001b[32m    151\u001b[39m logging.info(\u001b[33mf\u001b[39m\u001b[33m\"\u001b[39m\u001b[33mTotal time elapsed: \u001b[39m\u001b[38;5;132;01m{\u001b[39;00mtotal_elapsed\u001b[38;5;132;01m:\u001b[39;00m\u001b[33m.2f\u001b[39m\u001b[38;5;132;01m}\u001b[39;00m\u001b[33m seconds\u001b[39m\u001b[38;5;130;01m\\n\u001b[39;00m\u001b[33m\"\u001b[39m)\n\u001b[32m--> \u001b[39m\u001b[32m152\u001b[39m \u001b[43mtime\u001b[49m\u001b[43m.\u001b[49m\u001b[43msleep\u001b[49m\u001b[43m(\u001b[49m\u001b[32;43m2\u001b[39;49m\u001b[43m)\u001b[49m\n",
      "\u001b[31mKeyboardInterrupt\u001b[39m: "
     ]
    }
   ],
   "source": [
    "# ---- Define url and cnpj list ----\n",
    "url = \"https://www8.receita.fazenda.gov.br/SimplesNacional/Aplicacoes/ATSPO/pgmei.app/Identificacao\"\n",
    "data = []\n",
    "timings = []\n",
    "total_start_time = time.time()\n",
    "\n",
    "\n",
    "\n",
    "for cnpj in cnpj_list:\n",
    "    proxy = random.choice(proxy_list)\n",
    "    logging.info(\"Processing CNPJ:\", cnpj)\n",
    "    start_time = time.time()\n",
    "\n",
    "    try:\n",
    "\n",
    "        # ---- Step 1: Start Chrome in remote debug mode ----\n",
    "        subprocess.Popen([\n",
    "            r\"C:/Program Files/Google/Chrome/Application/chrome.exe\",\n",
    "            f\"--proxy-server={proxy}\",\n",
    "            \"--remote-debugging-port=9222\",\n",
    "            \"--user-data-dir=\" + chrome_profile_path,\n",
    "            \"--start-maximized\",  # or \"--start-fullscreen\"\n",
    "            \"--disable-popup-blocking\",  # optional, disable for debugging only\n",
    "            \"--disable-extensions\",\n",
    "            \"--no-first-run\",\n",
    "            \"--no-default-browser-check\"\n",
    "        ])\n",
    "        time.sleep(2)  # Give Chrome time to launch\n",
    "\n",
    "        # ---- Step 2: Use pyautogui to interact with the site ----\n",
    "        pyautogui.hotkey('ctrl', 'l')\n",
    "        pyautogui.typewrite(url, interval=0.01)\n",
    "        pyautogui.press('enter')  \n",
    "        time.sleep(2)\n",
    "\n",
    "        pyautogui.moveTo(x=1037, y=387, duration=1)\n",
    "        pyautogui.click()\n",
    "        pyautogui.typewrite(cnpj, interval=0.1)\n",
    "\n",
    "        pyautogui.moveTo(x=1043, y=514, duration=1)\n",
    "        pyautogui.click()\n",
    "        time.sleep(2)\n",
    "\n",
    "        options = Options()\n",
    "        options.add_experimental_option(\"debuggerAddress\", \"127.0.0.1:9222\")\n",
    "        options.add_argument(f'--proxy-server={proxy}')\n",
    "        driver = webdriver.Chrome(options=options)\n",
    "        wait = WebDriverWait(driver, 3)\n",
    "\n",
    "        driver.get(\"https://www8.receita.fazenda.gov.br/SimplesNacional/Aplicacoes/ATSPO/pgmei.app/emissao\")\n",
    "        time.sleep(1.5)\n",
    "\n",
    "        # First try: Bootstrap-styled dropdown\n",
    "        try:\n",
    "            dropdown_button = wait.until(EC.element_to_be_clickable((By.CSS_SELECTOR, 'button[data-id=\"anoCalendarioSelect\"]')))\n",
    "            dropdown_button.click()\n",
    "            time.sleep(1)\n",
    "\n",
    "            year_elements = wait.until(EC.presence_of_all_elements_located(\n",
    "                (By.CSS_SELECTOR, \".dropdown-menu.inner li a span.text\")\n",
    "            ))\n",
    "            enabled_years = [el.text.strip() for el in year_elements if el.text.strip()]\n",
    "            # remove elements from the list that contain \"Não optante\"\n",
    "            enabled_years = [year for year in enabled_years if \"Não optante\" not in year]\n",
    "\n",
    "            # Raise an exception if no enabled years are found\n",
    "            if not enabled_years:\n",
    "                raise ValueError(\"No enabled years found in the dropdown menu.\")\n",
    "\n",
    "            print(\"Bootstrap dropdown enabled years for CNPJ \", cnpj , \":\", enabled_years)\n",
    "            use_bootstrap = True\n",
    "            \n",
    "\n",
    "        except Exception as e:\n",
    "            print(\"Bootstrap dropdown failed, falling back to native <select> method.\")\n",
    "            # Try native <select>\n",
    "            select_element = wait.until(EC.presence_of_element_located((By.ID, \"anoCalendarioSelect\")))\n",
    "            dropdown = Select(select_element)\n",
    "            enabled_years = [o.text.strip() for o in dropdown.options if o.text.strip()]\n",
    "            enabled_years = [year for year in enabled_years if \"Não optante\" not in year]\n",
    "            print(\"Native <select> enabled years for CNPJ \", cnpj,\":\", enabled_years)\n",
    "            use_bootstrap = False\n",
    "\n",
    "        print(\"scraping years\", enabled_years)\n",
    "        enabled_years = [str(max(enabled_years))]\n",
    "        enabled_years.insert(0, \"2010\")  #add a year to the start of the list\n",
    "        \n",
    "        for index, year in enumerate(enabled_years):\n",
    "            try:\n",
    "                if use_bootstrap:\n",
    "                    dropdown_button = wait.until(EC.presence_of_element_located((By.CSS_SELECTOR, 'button[data-id=\"anoCalendarioSelect\"]')))\n",
    "                    driver.execute_script(\"arguments[0].click();\", dropdown_button)\n",
    "                    time.sleep(1.5)  # allow dropdown to render\n",
    "                    \n",
    "                    print(\"Clicking on year:\", year)\n",
    "                    year_option = wait.until(EC.element_to_be_clickable(\n",
    "                        (By.XPATH, f\"//span[@class='text' and normalize-space(text())='{year}']\")\n",
    "                    ))\n",
    "                    time.sleep(2)\n",
    "                    driver.execute_script(\"arguments[0].click();\", year_option)\n",
    "                    #ActionChains(driver).move_to_element(year_option).click().perform()\n",
    "                    print(f\"Selected (Bootstrap) year: {year}\")\n",
    "                else:\n",
    "                    dropdown = Select(driver.find_element(By.ID, \"anoCalendarioSelect\"))\n",
    "                    dropdown.select_by_visible_text(year)\n",
    "                    print(f\"Selected (native) year: {year}\")\n",
    "\n",
    "                ok_button = driver.find_element(By.CSS_SELECTOR, \"button[type='submit']\")\n",
    "                ok_button.click()\n",
    "                time.sleep(2)\n",
    "                \n",
    "                # check if table is present\n",
    "                soup = BeautifulSoup(driver.page_source, 'html.parser')\n",
    "                table = soup.find('table', class_='table table-hover table-condensed emissao is-detailed')\n",
    "                if not table:\n",
    "                    print(f\"No table found for {cnpj} in year {year}. Skipping the rest.\")\n",
    "                    # Mark all remaining years as not found\n",
    "                    for remaining_year in enabled_years[index:]:\n",
    "                        data.append({\n",
    "                            'cnpj': cnpj,\n",
    "                            'periodo': remaining_year,\n",
    "                            'data_found': False\n",
    "                        })\n",
    "                    break  # Exit the year loop\n",
    "                    \n",
    "                scrape_data(cnpj,year, soup, table)\n",
    "\n",
    "                driver.back()\n",
    "                time.sleep(2)\n",
    "\n",
    "            except Exception as e:\n",
    "                print(f\"Error with year {year}:\", e)\n",
    "\n",
    "    except Exception as outer_error:\n",
    "        print(f\"Fatal error with CNPJ {cnpj}:\", outer_error)\n",
    "\n",
    "    finally:\n",
    "        try:\n",
    "            driver.quit()\n",
    "        except:\n",
    "            pass\n",
    "        kill_chrome()\n",
    "        end_time = time.time()  # ⏱ End timer\n",
    "        elapsed = end_time - start_time\n",
    "        timings.append(elapsed)\n",
    "        total_elapsed = time.time() - total_start_time\n",
    "        average_elapsed = sum(timings) / len(timings)\n",
    "        \n",
    "        logging.info(f\"Finished CNPJ: {cnpj} in {elapsed:.2f} seconds\\n\")\n",
    "        logging.info(f\"Average time per CNPJ: {average_elapsed:.2f} seconds\")\n",
    "        logging.info(f\"Total time elapsed: {total_elapsed:.2f} seconds\\n\")\n",
    "        time.sleep(2)"
   ]
  },
  {
   "cell_type": "code",
   "execution_count": null,
   "id": "3b63ff8d",
   "metadata": {},
   "outputs": [],
   "source": [
    "data"
   ]
  },
  {
   "cell_type": "code",
   "execution_count": 70,
   "id": "4018a1b8",
   "metadata": {},
   "outputs": [
    {
     "data": {
      "application/vnd.microsoft.datawrangler.viewer.v0+json": {
       "columns": [
        {
         "name": "index",
         "rawType": "int64",
         "type": "integer"
        },
        {
         "name": "cnpj",
         "rawType": "object",
         "type": "string"
        },
        {
         "name": "periodo",
         "rawType": "object",
         "type": "string"
        },
        {
         "name": "data_found",
         "rawType": "bool",
         "type": "boolean"
        },
        {
         "name": "apurado",
         "rawType": "object",
         "type": "unknown"
        },
        {
         "name": "INSS",
         "rawType": "object",
         "type": "unknown"
        },
        {
         "name": "principal",
         "rawType": "object",
         "type": "unknown"
        },
        {
         "name": "multa",
         "rawType": "object",
         "type": "unknown"
        },
        {
         "name": "juros",
         "rawType": "object",
         "type": "unknown"
        },
        {
         "name": "total",
         "rawType": "object",
         "type": "unknown"
        },
        {
         "name": "vencimento",
         "rawType": "object",
         "type": "unknown"
        },
        {
         "name": "acolhimento",
         "rawType": "object",
         "type": "unknown"
        }
       ],
       "ref": "570b9b82-cb21-4be8-9ec2-7d4d8cfd6365",
       "rows": [
        [
         "0",
         "28740844000198",
         "2025",
         "False",
         null,
         null,
         null,
         null,
         null,
         null,
         null,
         null
        ],
        [
         "1",
         "12902387000150",
         "Janeiro/2025",
         "True",
         "Sim",
         "",
         "Liquidado",
         "-",
         "-",
         "-",
         "-",
         "-"
        ],
        [
         "2",
         "12902387000150",
         "Fevereiro/2025",
         "True",
         "Sim",
         "",
         "Liquidado",
         "-",
         "-",
         "-",
         "-",
         "-"
        ],
        [
         "3",
         "12902387000150",
         "Março/2025",
         "True",
         "Sim",
         "",
         "Liquidado",
         "-",
         "-",
         "-",
         "-",
         "-"
        ],
        [
         "4",
         "12902387000150",
         "Abril/2025",
         "True",
         "Sim",
         "",
         "Liquidado",
         "-",
         "-",
         "-",
         "-",
         "-"
        ],
        [
         "5",
         "12902387000150",
         "Maio/2025",
         "True",
         "Sim",
         "",
         "Liquidado",
         "-",
         "-",
         "-",
         "-",
         "-"
        ],
        [
         "6",
         "12902387000150",
         "Junho/2025",
         "True",
         "Sim",
         "",
         "Liquidado",
         "-",
         "-",
         "-",
         "-",
         "-"
        ],
        [
         "7",
         "12902387000150",
         "Julho/2025",
         "True",
         "Sim",
         "",
         "A Vencer",
         "R$ 81,90",
         "R$ 0,00",
         "R$ 0,00",
         "R$ 81,90",
         "20/08/2025"
        ],
        [
         "8",
         "12902387000150",
         "Agosto/2025",
         "True",
         "Sim",
         "",
         "A Vencer",
         "R$ 81,90",
         "R$ 0,00",
         "R$ 0,00",
         "R$ 81,90",
         "22/09/2025"
        ],
        [
         "9",
         "12902387000150",
         "Setembro/2025",
         "True",
         "Sim",
         "",
         "A Vencer",
         "R$ 81,90",
         "R$ 0,00",
         "R$ 0,00",
         "R$ 81,90",
         "20/10/2025"
        ],
        [
         "10",
         "12902387000150",
         "Outubro/2025",
         "True",
         "Sim",
         "",
         "A Vencer",
         "R$ 81,90",
         "R$ 0,00",
         "R$ 0,00",
         "R$ 81,90",
         "21/11/2025"
        ],
        [
         "11",
         "12902387000150",
         "Novembro/2025",
         "True",
         "Sim",
         "",
         "A Vencer",
         "R$ 81,90",
         "R$ 0,00",
         "R$ 0,00",
         "R$ 81,90",
         "22/12/2025"
        ],
        [
         "12",
         "12902387000150",
         "Dezembro/2025",
         "True",
         "Sim",
         "",
         "A Vencer",
         "R$ 81,90",
         "R$ 0,00",
         "R$ 0,00",
         "R$ 81,90",
         "20/01/2026"
        ],
        [
         "13",
         "33962463000193",
         "Janeiro/2025",
         "True",
         "Sim",
         "",
         "Liquidado",
         "-",
         "-",
         "-",
         "-",
         "-"
        ],
        [
         "14",
         "33962463000193",
         "Fevereiro/2025",
         "True",
         "Sim",
         "",
         "Liquidado",
         "-",
         "-",
         "-",
         "-",
         "-"
        ],
        [
         "15",
         "33962463000193",
         "Março/2025",
         "True",
         "Sim",
         "",
         "Liquidado",
         "-",
         "-",
         "-",
         "-",
         "-"
        ],
        [
         "16",
         "33962463000193",
         "Abril/2025",
         "True",
         "Sim",
         "",
         "Liquidado",
         "-",
         "-",
         "-",
         "-",
         "-"
        ],
        [
         "17",
         "33962463000193",
         "Maio/2025",
         "True",
         "Sim",
         "",
         "A Vencer",
         "R$ 76,90",
         "R$ 0,00",
         "R$ 0,00",
         "R$ 76,90",
         "20/06/2025"
        ],
        [
         "18",
         "33962463000193",
         "Junho/2025",
         "True",
         "Sim",
         "",
         "A Vencer",
         "R$ 76,90",
         "R$ 0,00",
         "R$ 0,00",
         "R$ 76,90",
         "21/07/2025"
        ],
        [
         "19",
         "33962463000193",
         "Julho/2025",
         "True",
         "Sim",
         "",
         "A Vencer",
         "R$ 76,90",
         "R$ 0,00",
         "R$ 0,00",
         "R$ 76,90",
         "20/08/2025"
        ],
        [
         "20",
         "33962463000193",
         "Agosto/2025",
         "True",
         "Sim",
         "",
         "A Vencer",
         "R$ 76,90",
         "R$ 0,00",
         "R$ 0,00",
         "R$ 76,90",
         "22/09/2025"
        ],
        [
         "21",
         "33962463000193",
         "Setembro/2025",
         "True",
         "Sim",
         "",
         "A Vencer",
         "R$ 76,90",
         "R$ 0,00",
         "R$ 0,00",
         "R$ 76,90",
         "20/10/2025"
        ],
        [
         "22",
         "33962463000193",
         "Outubro/2025",
         "True",
         "Sim",
         "",
         "A Vencer",
         "R$ 76,90",
         "R$ 0,00",
         "R$ 0,00",
         "R$ 76,90",
         "21/11/2025"
        ],
        [
         "23",
         "33962463000193",
         "Novembro/2025",
         "True",
         "Sim",
         "",
         "A Vencer",
         "R$ 76,90",
         "R$ 0,00",
         "R$ 0,00",
         "R$ 76,90",
         "22/12/2025"
        ],
        [
         "24",
         "33962463000193",
         "Dezembro/2025",
         "True",
         "Sim",
         "",
         "A Vencer",
         "R$ 76,90",
         "R$ 0,00",
         "R$ 0,00",
         "R$ 76,90",
         "20/01/2026"
        ]
       ],
       "shape": {
        "columns": 11,
        "rows": 25
       }
      },
      "text/html": [
       "<div>\n",
       "<style scoped>\n",
       "    .dataframe tbody tr th:only-of-type {\n",
       "        vertical-align: middle;\n",
       "    }\n",
       "\n",
       "    .dataframe tbody tr th {\n",
       "        vertical-align: top;\n",
       "    }\n",
       "\n",
       "    .dataframe thead th {\n",
       "        text-align: right;\n",
       "    }\n",
       "</style>\n",
       "<table border=\"1\" class=\"dataframe\">\n",
       "  <thead>\n",
       "    <tr style=\"text-align: right;\">\n",
       "      <th></th>\n",
       "      <th>cnpj</th>\n",
       "      <th>periodo</th>\n",
       "      <th>data_found</th>\n",
       "      <th>apurado</th>\n",
       "      <th>INSS</th>\n",
       "      <th>principal</th>\n",
       "      <th>multa</th>\n",
       "      <th>juros</th>\n",
       "      <th>total</th>\n",
       "      <th>vencimento</th>\n",
       "      <th>acolhimento</th>\n",
       "    </tr>\n",
       "  </thead>\n",
       "  <tbody>\n",
       "    <tr>\n",
       "      <th>0</th>\n",
       "      <td>28740844000198</td>\n",
       "      <td>2025</td>\n",
       "      <td>False</td>\n",
       "      <td>NaN</td>\n",
       "      <td>NaN</td>\n",
       "      <td>NaN</td>\n",
       "      <td>NaN</td>\n",
       "      <td>NaN</td>\n",
       "      <td>NaN</td>\n",
       "      <td>NaN</td>\n",
       "      <td>NaN</td>\n",
       "    </tr>\n",
       "    <tr>\n",
       "      <th>1</th>\n",
       "      <td>12902387000150</td>\n",
       "      <td>Janeiro/2025</td>\n",
       "      <td>True</td>\n",
       "      <td>Sim</td>\n",
       "      <td></td>\n",
       "      <td>Liquidado</td>\n",
       "      <td>-</td>\n",
       "      <td>-</td>\n",
       "      <td>-</td>\n",
       "      <td>-</td>\n",
       "      <td>-</td>\n",
       "    </tr>\n",
       "    <tr>\n",
       "      <th>2</th>\n",
       "      <td>12902387000150</td>\n",
       "      <td>Fevereiro/2025</td>\n",
       "      <td>True</td>\n",
       "      <td>Sim</td>\n",
       "      <td></td>\n",
       "      <td>Liquidado</td>\n",
       "      <td>-</td>\n",
       "      <td>-</td>\n",
       "      <td>-</td>\n",
       "      <td>-</td>\n",
       "      <td>-</td>\n",
       "    </tr>\n",
       "    <tr>\n",
       "      <th>3</th>\n",
       "      <td>12902387000150</td>\n",
       "      <td>Março/2025</td>\n",
       "      <td>True</td>\n",
       "      <td>Sim</td>\n",
       "      <td></td>\n",
       "      <td>Liquidado</td>\n",
       "      <td>-</td>\n",
       "      <td>-</td>\n",
       "      <td>-</td>\n",
       "      <td>-</td>\n",
       "      <td>-</td>\n",
       "    </tr>\n",
       "    <tr>\n",
       "      <th>4</th>\n",
       "      <td>12902387000150</td>\n",
       "      <td>Abril/2025</td>\n",
       "      <td>True</td>\n",
       "      <td>Sim</td>\n",
       "      <td></td>\n",
       "      <td>Liquidado</td>\n",
       "      <td>-</td>\n",
       "      <td>-</td>\n",
       "      <td>-</td>\n",
       "      <td>-</td>\n",
       "      <td>-</td>\n",
       "    </tr>\n",
       "    <tr>\n",
       "      <th>5</th>\n",
       "      <td>12902387000150</td>\n",
       "      <td>Maio/2025</td>\n",
       "      <td>True</td>\n",
       "      <td>Sim</td>\n",
       "      <td></td>\n",
       "      <td>Liquidado</td>\n",
       "      <td>-</td>\n",
       "      <td>-</td>\n",
       "      <td>-</td>\n",
       "      <td>-</td>\n",
       "      <td>-</td>\n",
       "    </tr>\n",
       "    <tr>\n",
       "      <th>6</th>\n",
       "      <td>12902387000150</td>\n",
       "      <td>Junho/2025</td>\n",
       "      <td>True</td>\n",
       "      <td>Sim</td>\n",
       "      <td></td>\n",
       "      <td>Liquidado</td>\n",
       "      <td>-</td>\n",
       "      <td>-</td>\n",
       "      <td>-</td>\n",
       "      <td>-</td>\n",
       "      <td>-</td>\n",
       "    </tr>\n",
       "    <tr>\n",
       "      <th>7</th>\n",
       "      <td>12902387000150</td>\n",
       "      <td>Julho/2025</td>\n",
       "      <td>True</td>\n",
       "      <td>Sim</td>\n",
       "      <td></td>\n",
       "      <td>A Vencer</td>\n",
       "      <td>R$ 81,90</td>\n",
       "      <td>R$ 0,00</td>\n",
       "      <td>R$ 0,00</td>\n",
       "      <td>R$ 81,90</td>\n",
       "      <td>20/08/2025</td>\n",
       "    </tr>\n",
       "    <tr>\n",
       "      <th>8</th>\n",
       "      <td>12902387000150</td>\n",
       "      <td>Agosto/2025</td>\n",
       "      <td>True</td>\n",
       "      <td>Sim</td>\n",
       "      <td></td>\n",
       "      <td>A Vencer</td>\n",
       "      <td>R$ 81,90</td>\n",
       "      <td>R$ 0,00</td>\n",
       "      <td>R$ 0,00</td>\n",
       "      <td>R$ 81,90</td>\n",
       "      <td>22/09/2025</td>\n",
       "    </tr>\n",
       "    <tr>\n",
       "      <th>9</th>\n",
       "      <td>12902387000150</td>\n",
       "      <td>Setembro/2025</td>\n",
       "      <td>True</td>\n",
       "      <td>Sim</td>\n",
       "      <td></td>\n",
       "      <td>A Vencer</td>\n",
       "      <td>R$ 81,90</td>\n",
       "      <td>R$ 0,00</td>\n",
       "      <td>R$ 0,00</td>\n",
       "      <td>R$ 81,90</td>\n",
       "      <td>20/10/2025</td>\n",
       "    </tr>\n",
       "    <tr>\n",
       "      <th>10</th>\n",
       "      <td>12902387000150</td>\n",
       "      <td>Outubro/2025</td>\n",
       "      <td>True</td>\n",
       "      <td>Sim</td>\n",
       "      <td></td>\n",
       "      <td>A Vencer</td>\n",
       "      <td>R$ 81,90</td>\n",
       "      <td>R$ 0,00</td>\n",
       "      <td>R$ 0,00</td>\n",
       "      <td>R$ 81,90</td>\n",
       "      <td>21/11/2025</td>\n",
       "    </tr>\n",
       "    <tr>\n",
       "      <th>11</th>\n",
       "      <td>12902387000150</td>\n",
       "      <td>Novembro/2025</td>\n",
       "      <td>True</td>\n",
       "      <td>Sim</td>\n",
       "      <td></td>\n",
       "      <td>A Vencer</td>\n",
       "      <td>R$ 81,90</td>\n",
       "      <td>R$ 0,00</td>\n",
       "      <td>R$ 0,00</td>\n",
       "      <td>R$ 81,90</td>\n",
       "      <td>22/12/2025</td>\n",
       "    </tr>\n",
       "    <tr>\n",
       "      <th>12</th>\n",
       "      <td>12902387000150</td>\n",
       "      <td>Dezembro/2025</td>\n",
       "      <td>True</td>\n",
       "      <td>Sim</td>\n",
       "      <td></td>\n",
       "      <td>A Vencer</td>\n",
       "      <td>R$ 81,90</td>\n",
       "      <td>R$ 0,00</td>\n",
       "      <td>R$ 0,00</td>\n",
       "      <td>R$ 81,90</td>\n",
       "      <td>20/01/2026</td>\n",
       "    </tr>\n",
       "    <tr>\n",
       "      <th>13</th>\n",
       "      <td>33962463000193</td>\n",
       "      <td>Janeiro/2025</td>\n",
       "      <td>True</td>\n",
       "      <td>Sim</td>\n",
       "      <td></td>\n",
       "      <td>Liquidado</td>\n",
       "      <td>-</td>\n",
       "      <td>-</td>\n",
       "      <td>-</td>\n",
       "      <td>-</td>\n",
       "      <td>-</td>\n",
       "    </tr>\n",
       "    <tr>\n",
       "      <th>14</th>\n",
       "      <td>33962463000193</td>\n",
       "      <td>Fevereiro/2025</td>\n",
       "      <td>True</td>\n",
       "      <td>Sim</td>\n",
       "      <td></td>\n",
       "      <td>Liquidado</td>\n",
       "      <td>-</td>\n",
       "      <td>-</td>\n",
       "      <td>-</td>\n",
       "      <td>-</td>\n",
       "      <td>-</td>\n",
       "    </tr>\n",
       "    <tr>\n",
       "      <th>15</th>\n",
       "      <td>33962463000193</td>\n",
       "      <td>Março/2025</td>\n",
       "      <td>True</td>\n",
       "      <td>Sim</td>\n",
       "      <td></td>\n",
       "      <td>Liquidado</td>\n",
       "      <td>-</td>\n",
       "      <td>-</td>\n",
       "      <td>-</td>\n",
       "      <td>-</td>\n",
       "      <td>-</td>\n",
       "    </tr>\n",
       "    <tr>\n",
       "      <th>16</th>\n",
       "      <td>33962463000193</td>\n",
       "      <td>Abril/2025</td>\n",
       "      <td>True</td>\n",
       "      <td>Sim</td>\n",
       "      <td></td>\n",
       "      <td>Liquidado</td>\n",
       "      <td>-</td>\n",
       "      <td>-</td>\n",
       "      <td>-</td>\n",
       "      <td>-</td>\n",
       "      <td>-</td>\n",
       "    </tr>\n",
       "    <tr>\n",
       "      <th>17</th>\n",
       "      <td>33962463000193</td>\n",
       "      <td>Maio/2025</td>\n",
       "      <td>True</td>\n",
       "      <td>Sim</td>\n",
       "      <td></td>\n",
       "      <td>A Vencer</td>\n",
       "      <td>R$ 76,90</td>\n",
       "      <td>R$ 0,00</td>\n",
       "      <td>R$ 0,00</td>\n",
       "      <td>R$ 76,90</td>\n",
       "      <td>20/06/2025</td>\n",
       "    </tr>\n",
       "    <tr>\n",
       "      <th>18</th>\n",
       "      <td>33962463000193</td>\n",
       "      <td>Junho/2025</td>\n",
       "      <td>True</td>\n",
       "      <td>Sim</td>\n",
       "      <td></td>\n",
       "      <td>A Vencer</td>\n",
       "      <td>R$ 76,90</td>\n",
       "      <td>R$ 0,00</td>\n",
       "      <td>R$ 0,00</td>\n",
       "      <td>R$ 76,90</td>\n",
       "      <td>21/07/2025</td>\n",
       "    </tr>\n",
       "    <tr>\n",
       "      <th>19</th>\n",
       "      <td>33962463000193</td>\n",
       "      <td>Julho/2025</td>\n",
       "      <td>True</td>\n",
       "      <td>Sim</td>\n",
       "      <td></td>\n",
       "      <td>A Vencer</td>\n",
       "      <td>R$ 76,90</td>\n",
       "      <td>R$ 0,00</td>\n",
       "      <td>R$ 0,00</td>\n",
       "      <td>R$ 76,90</td>\n",
       "      <td>20/08/2025</td>\n",
       "    </tr>\n",
       "    <tr>\n",
       "      <th>20</th>\n",
       "      <td>33962463000193</td>\n",
       "      <td>Agosto/2025</td>\n",
       "      <td>True</td>\n",
       "      <td>Sim</td>\n",
       "      <td></td>\n",
       "      <td>A Vencer</td>\n",
       "      <td>R$ 76,90</td>\n",
       "      <td>R$ 0,00</td>\n",
       "      <td>R$ 0,00</td>\n",
       "      <td>R$ 76,90</td>\n",
       "      <td>22/09/2025</td>\n",
       "    </tr>\n",
       "    <tr>\n",
       "      <th>21</th>\n",
       "      <td>33962463000193</td>\n",
       "      <td>Setembro/2025</td>\n",
       "      <td>True</td>\n",
       "      <td>Sim</td>\n",
       "      <td></td>\n",
       "      <td>A Vencer</td>\n",
       "      <td>R$ 76,90</td>\n",
       "      <td>R$ 0,00</td>\n",
       "      <td>R$ 0,00</td>\n",
       "      <td>R$ 76,90</td>\n",
       "      <td>20/10/2025</td>\n",
       "    </tr>\n",
       "    <tr>\n",
       "      <th>22</th>\n",
       "      <td>33962463000193</td>\n",
       "      <td>Outubro/2025</td>\n",
       "      <td>True</td>\n",
       "      <td>Sim</td>\n",
       "      <td></td>\n",
       "      <td>A Vencer</td>\n",
       "      <td>R$ 76,90</td>\n",
       "      <td>R$ 0,00</td>\n",
       "      <td>R$ 0,00</td>\n",
       "      <td>R$ 76,90</td>\n",
       "      <td>21/11/2025</td>\n",
       "    </tr>\n",
       "    <tr>\n",
       "      <th>23</th>\n",
       "      <td>33962463000193</td>\n",
       "      <td>Novembro/2025</td>\n",
       "      <td>True</td>\n",
       "      <td>Sim</td>\n",
       "      <td></td>\n",
       "      <td>A Vencer</td>\n",
       "      <td>R$ 76,90</td>\n",
       "      <td>R$ 0,00</td>\n",
       "      <td>R$ 0,00</td>\n",
       "      <td>R$ 76,90</td>\n",
       "      <td>22/12/2025</td>\n",
       "    </tr>\n",
       "    <tr>\n",
       "      <th>24</th>\n",
       "      <td>33962463000193</td>\n",
       "      <td>Dezembro/2025</td>\n",
       "      <td>True</td>\n",
       "      <td>Sim</td>\n",
       "      <td></td>\n",
       "      <td>A Vencer</td>\n",
       "      <td>R$ 76,90</td>\n",
       "      <td>R$ 0,00</td>\n",
       "      <td>R$ 0,00</td>\n",
       "      <td>R$ 76,90</td>\n",
       "      <td>20/01/2026</td>\n",
       "    </tr>\n",
       "  </tbody>\n",
       "</table>\n",
       "</div>"
      ],
      "text/plain": [
       "              cnpj         periodo  data_found apurado INSS  principal  \\\n",
       "0   28740844000198            2025       False     NaN  NaN        NaN   \n",
       "1   12902387000150    Janeiro/2025        True     Sim       Liquidado   \n",
       "2   12902387000150  Fevereiro/2025        True     Sim       Liquidado   \n",
       "3   12902387000150      Março/2025        True     Sim       Liquidado   \n",
       "4   12902387000150      Abril/2025        True     Sim       Liquidado   \n",
       "5   12902387000150       Maio/2025        True     Sim       Liquidado   \n",
       "6   12902387000150      Junho/2025        True     Sim       Liquidado   \n",
       "7   12902387000150      Julho/2025        True     Sim        A Vencer   \n",
       "8   12902387000150     Agosto/2025        True     Sim        A Vencer   \n",
       "9   12902387000150   Setembro/2025        True     Sim        A Vencer   \n",
       "10  12902387000150    Outubro/2025        True     Sim        A Vencer   \n",
       "11  12902387000150   Novembro/2025        True     Sim        A Vencer   \n",
       "12  12902387000150   Dezembro/2025        True     Sim        A Vencer   \n",
       "13  33962463000193    Janeiro/2025        True     Sim       Liquidado   \n",
       "14  33962463000193  Fevereiro/2025        True     Sim       Liquidado   \n",
       "15  33962463000193      Março/2025        True     Sim       Liquidado   \n",
       "16  33962463000193      Abril/2025        True     Sim       Liquidado   \n",
       "17  33962463000193       Maio/2025        True     Sim        A Vencer   \n",
       "18  33962463000193      Junho/2025        True     Sim        A Vencer   \n",
       "19  33962463000193      Julho/2025        True     Sim        A Vencer   \n",
       "20  33962463000193     Agosto/2025        True     Sim        A Vencer   \n",
       "21  33962463000193   Setembro/2025        True     Sim        A Vencer   \n",
       "22  33962463000193    Outubro/2025        True     Sim        A Vencer   \n",
       "23  33962463000193   Novembro/2025        True     Sim        A Vencer   \n",
       "24  33962463000193   Dezembro/2025        True     Sim        A Vencer   \n",
       "\n",
       "       multa    juros    total vencimento acolhimento  \n",
       "0        NaN      NaN      NaN        NaN         NaN  \n",
       "1          -        -        -          -           -  \n",
       "2          -        -        -          -           -  \n",
       "3          -        -        -          -           -  \n",
       "4          -        -        -          -           -  \n",
       "5          -        -        -          -           -  \n",
       "6          -        -        -          -           -  \n",
       "7   R$ 81,90  R$ 0,00  R$ 0,00   R$ 81,90  20/08/2025  \n",
       "8   R$ 81,90  R$ 0,00  R$ 0,00   R$ 81,90  22/09/2025  \n",
       "9   R$ 81,90  R$ 0,00  R$ 0,00   R$ 81,90  20/10/2025  \n",
       "10  R$ 81,90  R$ 0,00  R$ 0,00   R$ 81,90  21/11/2025  \n",
       "11  R$ 81,90  R$ 0,00  R$ 0,00   R$ 81,90  22/12/2025  \n",
       "12  R$ 81,90  R$ 0,00  R$ 0,00   R$ 81,90  20/01/2026  \n",
       "13         -        -        -          -           -  \n",
       "14         -        -        -          -           -  \n",
       "15         -        -        -          -           -  \n",
       "16         -        -        -          -           -  \n",
       "17  R$ 76,90  R$ 0,00  R$ 0,00   R$ 76,90  20/06/2025  \n",
       "18  R$ 76,90  R$ 0,00  R$ 0,00   R$ 76,90  21/07/2025  \n",
       "19  R$ 76,90  R$ 0,00  R$ 0,00   R$ 76,90  20/08/2025  \n",
       "20  R$ 76,90  R$ 0,00  R$ 0,00   R$ 76,90  22/09/2025  \n",
       "21  R$ 76,90  R$ 0,00  R$ 0,00   R$ 76,90  20/10/2025  \n",
       "22  R$ 76,90  R$ 0,00  R$ 0,00   R$ 76,90  21/11/2025  \n",
       "23  R$ 76,90  R$ 0,00  R$ 0,00   R$ 76,90  22/12/2025  \n",
       "24  R$ 76,90  R$ 0,00  R$ 0,00   R$ 76,90  20/01/2026  "
      ]
     },
     "execution_count": 70,
     "metadata": {},
     "output_type": "execute_result"
    }
   ],
   "source": [
    "df = pd.DataFrame(data)\n",
    "df"
   ]
  },
  {
   "cell_type": "code",
   "execution_count": 19,
   "id": "a86cfe31",
   "metadata": {},
   "outputs": [],
   "source": [
    "pd.DataFrame(data).to_csv('MEI_data.csv', sep=',', encoding='utf-8', index=False)"
   ]
  }
 ],
 "metadata": {
  "kernelspec": {
   "display_name": "venv",
   "language": "python",
   "name": "python3"
  },
  "language_info": {
   "codemirror_mode": {
    "name": "ipython",
    "version": 3
   },
   "file_extension": ".py",
   "mimetype": "text/x-python",
   "name": "python",
   "nbconvert_exporter": "python",
   "pygments_lexer": "ipython3",
   "version": "3.12.10"
  }
 },
 "nbformat": 4,
 "nbformat_minor": 5
}
